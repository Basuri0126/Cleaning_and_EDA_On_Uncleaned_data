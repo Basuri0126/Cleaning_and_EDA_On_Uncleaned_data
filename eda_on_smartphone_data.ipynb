{
  "nbformat": 4,
  "nbformat_minor": 0,
  "metadata": {
    "colab": {
      "provenance": []
    },
    "kernelspec": {
      "name": "python3",
      "display_name": "Python 3"
    },
    "language_info": {
      "name": "python"
    }
  },
  "cells": [
    {
      "cell_type": "code",
      "execution_count": null,
      "metadata": {
        "id": "p24vqxjtynUb"
      },
      "outputs": [],
      "source": [
        "import numpy as np\n",
        "import pandas as pd\n",
        "import matplotlib.pyplot as plt\n",
        "import seaborn as sns"
      ]
    },
    {
      "cell_type": "code",
      "source": [
        "pd.set_option('display.max_columns',None)\n",
        "pd.set_option('display.max_rows',None)"
      ],
      "metadata": {
        "id": "1IC_LzVjzSHb"
      },
      "execution_count": null,
      "outputs": []
    },
    {
      "cell_type": "code",
      "source": [
        "df = pd.read_csv('/content/smartphone_cleaned_v5.csv')"
      ],
      "metadata": {
        "id": "kKypBuf-zKt5"
      },
      "execution_count": null,
      "outputs": []
    },
    {
      "cell_type": "code",
      "source": [
        "df.shape"
      ],
      "metadata": {
        "colab": {
          "base_uri": "https://localhost:8080/"
        },
        "id": "Uk8BqOct2kD5",
        "outputId": "dfa68ce1-dadd-4b62-8553-163900fb14f4"
      },
      "execution_count": null,
      "outputs": [
        {
          "output_type": "execute_result",
          "data": {
            "text/plain": [
              "(980, 25)"
            ]
          },
          "metadata": {},
          "execution_count": 10
        }
      ]
    },
    {
      "cell_type": "code",
      "source": [
        "df.head()"
      ],
      "metadata": {
        "colab": {
          "base_uri": "https://localhost:8080/",
          "height": 426
        },
        "id": "ERLV8pENzOv_",
        "outputId": "cf4f1345-46f8-4124-9301-686898a80fe6"
      },
      "execution_count": null,
      "outputs": [
        {
          "output_type": "execute_result",
          "data": {
            "text/plain": [
              "  brand_name                      model  price  rating  has_5g  has_nfc  \\\n",
              "0    oneplus              OnePlus 11 5G  54999    89.0    True     True   \n",
              "1    oneplus  OnePlus Nord CE 2 Lite 5G  19989    81.0    True    False   \n",
              "2    samsung      Samsung Galaxy A14 5G  16499    75.0    True    False   \n",
              "3   motorola       Motorola Moto G62 5G  14999    81.0    True    False   \n",
              "4     realme         Realme 10 Pro Plus  24999    82.0    True    False   \n",
              "\n",
              "   has_ir_blaster processor_brand  num_cores  processor_speed  \\\n",
              "0           False      snapdragon        8.0              3.2   \n",
              "1           False      snapdragon        8.0              2.2   \n",
              "2           False          exynos        8.0              2.4   \n",
              "3           False      snapdragon        8.0              2.2   \n",
              "4           False       dimensity        8.0              2.6   \n",
              "\n",
              "   battery_capacity  fast_charging_available  fast_charging  ram_capacity  \\\n",
              "0            5000.0                        1          100.0          12.0   \n",
              "1            5000.0                        1           33.0           6.0   \n",
              "2            5000.0                        1           15.0           4.0   \n",
              "3            5000.0                        1            NaN           6.0   \n",
              "4            5000.0                        1           67.0           6.0   \n",
              "\n",
              "   internal_memory  screen_size  refresh_rate    resolution  num_rear_cameras  \\\n",
              "0            256.0         6.70           120  1440 x 3216                  3   \n",
              "1            128.0         6.59           120  1080 x 2412                  3   \n",
              "2             64.0         6.60            90  1080 x 2408                  3   \n",
              "3            128.0         6.55           120  1080 x 2400                  3   \n",
              "4            128.0         6.70           120  1080 x 2412                  3   \n",
              "\n",
              "   num_front_cameras       os  primary_camera_rear  primary_camera_front  \\\n",
              "0                1.0  android                 50.0                  16.0   \n",
              "1                1.0  android                 64.0                  16.0   \n",
              "2                1.0  android                 50.0                  13.0   \n",
              "3                1.0  android                 50.0                  16.0   \n",
              "4                1.0  android                108.0                  16.0   \n",
              "\n",
              "   extended_memory_available  extended_upto  \n",
              "0                          0            NaN  \n",
              "1                          1         1024.0  \n",
              "2                          1         1024.0  \n",
              "3                          1         1024.0  \n",
              "4                          0            NaN  "
            ],
            "text/html": [
              "\n",
              "  <div id=\"df-3b55b894-e9c4-4f24-9aad-9dbe5fb60f2b\">\n",
              "    <div class=\"colab-df-container\">\n",
              "      <div>\n",
              "<style scoped>\n",
              "    .dataframe tbody tr th:only-of-type {\n",
              "        vertical-align: middle;\n",
              "    }\n",
              "\n",
              "    .dataframe tbody tr th {\n",
              "        vertical-align: top;\n",
              "    }\n",
              "\n",
              "    .dataframe thead th {\n",
              "        text-align: right;\n",
              "    }\n",
              "</style>\n",
              "<table border=\"1\" class=\"dataframe\">\n",
              "  <thead>\n",
              "    <tr style=\"text-align: right;\">\n",
              "      <th></th>\n",
              "      <th>brand_name</th>\n",
              "      <th>model</th>\n",
              "      <th>price</th>\n",
              "      <th>rating</th>\n",
              "      <th>has_5g</th>\n",
              "      <th>has_nfc</th>\n",
              "      <th>has_ir_blaster</th>\n",
              "      <th>processor_brand</th>\n",
              "      <th>num_cores</th>\n",
              "      <th>processor_speed</th>\n",
              "      <th>battery_capacity</th>\n",
              "      <th>fast_charging_available</th>\n",
              "      <th>fast_charging</th>\n",
              "      <th>ram_capacity</th>\n",
              "      <th>internal_memory</th>\n",
              "      <th>screen_size</th>\n",
              "      <th>refresh_rate</th>\n",
              "      <th>resolution</th>\n",
              "      <th>num_rear_cameras</th>\n",
              "      <th>num_front_cameras</th>\n",
              "      <th>os</th>\n",
              "      <th>primary_camera_rear</th>\n",
              "      <th>primary_camera_front</th>\n",
              "      <th>extended_memory_available</th>\n",
              "      <th>extended_upto</th>\n",
              "    </tr>\n",
              "  </thead>\n",
              "  <tbody>\n",
              "    <tr>\n",
              "      <th>0</th>\n",
              "      <td>oneplus</td>\n",
              "      <td>OnePlus 11 5G</td>\n",
              "      <td>54999</td>\n",
              "      <td>89.0</td>\n",
              "      <td>True</td>\n",
              "      <td>True</td>\n",
              "      <td>False</td>\n",
              "      <td>snapdragon</td>\n",
              "      <td>8.0</td>\n",
              "      <td>3.2</td>\n",
              "      <td>5000.0</td>\n",
              "      <td>1</td>\n",
              "      <td>100.0</td>\n",
              "      <td>12.0</td>\n",
              "      <td>256.0</td>\n",
              "      <td>6.70</td>\n",
              "      <td>120</td>\n",
              "      <td>1440 x 3216</td>\n",
              "      <td>3</td>\n",
              "      <td>1.0</td>\n",
              "      <td>android</td>\n",
              "      <td>50.0</td>\n",
              "      <td>16.0</td>\n",
              "      <td>0</td>\n",
              "      <td>NaN</td>\n",
              "    </tr>\n",
              "    <tr>\n",
              "      <th>1</th>\n",
              "      <td>oneplus</td>\n",
              "      <td>OnePlus Nord CE 2 Lite 5G</td>\n",
              "      <td>19989</td>\n",
              "      <td>81.0</td>\n",
              "      <td>True</td>\n",
              "      <td>False</td>\n",
              "      <td>False</td>\n",
              "      <td>snapdragon</td>\n",
              "      <td>8.0</td>\n",
              "      <td>2.2</td>\n",
              "      <td>5000.0</td>\n",
              "      <td>1</td>\n",
              "      <td>33.0</td>\n",
              "      <td>6.0</td>\n",
              "      <td>128.0</td>\n",
              "      <td>6.59</td>\n",
              "      <td>120</td>\n",
              "      <td>1080 x 2412</td>\n",
              "      <td>3</td>\n",
              "      <td>1.0</td>\n",
              "      <td>android</td>\n",
              "      <td>64.0</td>\n",
              "      <td>16.0</td>\n",
              "      <td>1</td>\n",
              "      <td>1024.0</td>\n",
              "    </tr>\n",
              "    <tr>\n",
              "      <th>2</th>\n",
              "      <td>samsung</td>\n",
              "      <td>Samsung Galaxy A14 5G</td>\n",
              "      <td>16499</td>\n",
              "      <td>75.0</td>\n",
              "      <td>True</td>\n",
              "      <td>False</td>\n",
              "      <td>False</td>\n",
              "      <td>exynos</td>\n",
              "      <td>8.0</td>\n",
              "      <td>2.4</td>\n",
              "      <td>5000.0</td>\n",
              "      <td>1</td>\n",
              "      <td>15.0</td>\n",
              "      <td>4.0</td>\n",
              "      <td>64.0</td>\n",
              "      <td>6.60</td>\n",
              "      <td>90</td>\n",
              "      <td>1080 x 2408</td>\n",
              "      <td>3</td>\n",
              "      <td>1.0</td>\n",
              "      <td>android</td>\n",
              "      <td>50.0</td>\n",
              "      <td>13.0</td>\n",
              "      <td>1</td>\n",
              "      <td>1024.0</td>\n",
              "    </tr>\n",
              "    <tr>\n",
              "      <th>3</th>\n",
              "      <td>motorola</td>\n",
              "      <td>Motorola Moto G62 5G</td>\n",
              "      <td>14999</td>\n",
              "      <td>81.0</td>\n",
              "      <td>True</td>\n",
              "      <td>False</td>\n",
              "      <td>False</td>\n",
              "      <td>snapdragon</td>\n",
              "      <td>8.0</td>\n",
              "      <td>2.2</td>\n",
              "      <td>5000.0</td>\n",
              "      <td>1</td>\n",
              "      <td>NaN</td>\n",
              "      <td>6.0</td>\n",
              "      <td>128.0</td>\n",
              "      <td>6.55</td>\n",
              "      <td>120</td>\n",
              "      <td>1080 x 2400</td>\n",
              "      <td>3</td>\n",
              "      <td>1.0</td>\n",
              "      <td>android</td>\n",
              "      <td>50.0</td>\n",
              "      <td>16.0</td>\n",
              "      <td>1</td>\n",
              "      <td>1024.0</td>\n",
              "    </tr>\n",
              "    <tr>\n",
              "      <th>4</th>\n",
              "      <td>realme</td>\n",
              "      <td>Realme 10 Pro Plus</td>\n",
              "      <td>24999</td>\n",
              "      <td>82.0</td>\n",
              "      <td>True</td>\n",
              "      <td>False</td>\n",
              "      <td>False</td>\n",
              "      <td>dimensity</td>\n",
              "      <td>8.0</td>\n",
              "      <td>2.6</td>\n",
              "      <td>5000.0</td>\n",
              "      <td>1</td>\n",
              "      <td>67.0</td>\n",
              "      <td>6.0</td>\n",
              "      <td>128.0</td>\n",
              "      <td>6.70</td>\n",
              "      <td>120</td>\n",
              "      <td>1080 x 2412</td>\n",
              "      <td>3</td>\n",
              "      <td>1.0</td>\n",
              "      <td>android</td>\n",
              "      <td>108.0</td>\n",
              "      <td>16.0</td>\n",
              "      <td>0</td>\n",
              "      <td>NaN</td>\n",
              "    </tr>\n",
              "  </tbody>\n",
              "</table>\n",
              "</div>\n",
              "      <button class=\"colab-df-convert\" onclick=\"convertToInteractive('df-3b55b894-e9c4-4f24-9aad-9dbe5fb60f2b')\"\n",
              "              title=\"Convert this dataframe to an interactive table.\"\n",
              "              style=\"display:none;\">\n",
              "        \n",
              "  <svg xmlns=\"http://www.w3.org/2000/svg\" height=\"24px\"viewBox=\"0 0 24 24\"\n",
              "       width=\"24px\">\n",
              "    <path d=\"M0 0h24v24H0V0z\" fill=\"none\"/>\n",
              "    <path d=\"M18.56 5.44l.94 2.06.94-2.06 2.06-.94-2.06-.94-.94-2.06-.94 2.06-2.06.94zm-11 1L8.5 8.5l.94-2.06 2.06-.94-2.06-.94L8.5 2.5l-.94 2.06-2.06.94zm10 10l.94 2.06.94-2.06 2.06-.94-2.06-.94-.94-2.06-.94 2.06-2.06.94z\"/><path d=\"M17.41 7.96l-1.37-1.37c-.4-.4-.92-.59-1.43-.59-.52 0-1.04.2-1.43.59L10.3 9.45l-7.72 7.72c-.78.78-.78 2.05 0 2.83L4 21.41c.39.39.9.59 1.41.59.51 0 1.02-.2 1.41-.59l7.78-7.78 2.81-2.81c.8-.78.8-2.07 0-2.86zM5.41 20L4 18.59l7.72-7.72 1.47 1.35L5.41 20z\"/>\n",
              "  </svg>\n",
              "      </button>\n",
              "      \n",
              "  <style>\n",
              "    .colab-df-container {\n",
              "      display:flex;\n",
              "      flex-wrap:wrap;\n",
              "      gap: 12px;\n",
              "    }\n",
              "\n",
              "    .colab-df-convert {\n",
              "      background-color: #E8F0FE;\n",
              "      border: none;\n",
              "      border-radius: 50%;\n",
              "      cursor: pointer;\n",
              "      display: none;\n",
              "      fill: #1967D2;\n",
              "      height: 32px;\n",
              "      padding: 0 0 0 0;\n",
              "      width: 32px;\n",
              "    }\n",
              "\n",
              "    .colab-df-convert:hover {\n",
              "      background-color: #E2EBFA;\n",
              "      box-shadow: 0px 1px 2px rgba(60, 64, 67, 0.3), 0px 1px 3px 1px rgba(60, 64, 67, 0.15);\n",
              "      fill: #174EA6;\n",
              "    }\n",
              "\n",
              "    [theme=dark] .colab-df-convert {\n",
              "      background-color: #3B4455;\n",
              "      fill: #D2E3FC;\n",
              "    }\n",
              "\n",
              "    [theme=dark] .colab-df-convert:hover {\n",
              "      background-color: #434B5C;\n",
              "      box-shadow: 0px 1px 3px 1px rgba(0, 0, 0, 0.15);\n",
              "      filter: drop-shadow(0px 1px 2px rgba(0, 0, 0, 0.3));\n",
              "      fill: #FFFFFF;\n",
              "    }\n",
              "  </style>\n",
              "\n",
              "      <script>\n",
              "        const buttonEl =\n",
              "          document.querySelector('#df-3b55b894-e9c4-4f24-9aad-9dbe5fb60f2b button.colab-df-convert');\n",
              "        buttonEl.style.display =\n",
              "          google.colab.kernel.accessAllowed ? 'block' : 'none';\n",
              "\n",
              "        async function convertToInteractive(key) {\n",
              "          const element = document.querySelector('#df-3b55b894-e9c4-4f24-9aad-9dbe5fb60f2b');\n",
              "          const dataTable =\n",
              "            await google.colab.kernel.invokeFunction('convertToInteractive',\n",
              "                                                     [key], {});\n",
              "          if (!dataTable) return;\n",
              "\n",
              "          const docLinkHtml = 'Like what you see? Visit the ' +\n",
              "            '<a target=\"_blank\" href=https://colab.research.google.com/notebooks/data_table.ipynb>data table notebook</a>'\n",
              "            + ' to learn more about interactive tables.';\n",
              "          element.innerHTML = '';\n",
              "          dataTable['output_type'] = 'display_data';\n",
              "          await google.colab.output.renderOutput(dataTable, element);\n",
              "          const docLink = document.createElement('div');\n",
              "          docLink.innerHTML = docLinkHtml;\n",
              "          element.appendChild(docLink);\n",
              "        }\n",
              "      </script>\n",
              "    </div>\n",
              "  </div>\n",
              "  "
            ]
          },
          "metadata": {},
          "execution_count": 9
        }
      ]
    },
    {
      "cell_type": "code",
      "source": [
        "df.info()"
      ],
      "metadata": {
        "colab": {
          "base_uri": "https://localhost:8080/"
        },
        "id": "w77Aj-rfzQEz",
        "outputId": "4ea103b4-d925-48e1-d07b-eb2f46889158"
      },
      "execution_count": null,
      "outputs": [
        {
          "output_type": "stream",
          "name": "stdout",
          "text": [
            "<class 'pandas.core.frame.DataFrame'>\n",
            "RangeIndex: 980 entries, 0 to 979\n",
            "Data columns (total 25 columns):\n",
            " #   Column                     Non-Null Count  Dtype  \n",
            "---  ------                     --------------  -----  \n",
            " 0   brand_name                 980 non-null    object \n",
            " 1   model                      980 non-null    object \n",
            " 2   price                      980 non-null    int64  \n",
            " 3   rating                     879 non-null    float64\n",
            " 4   has_5g                     980 non-null    bool   \n",
            " 5   has_nfc                    980 non-null    bool   \n",
            " 6   has_ir_blaster             980 non-null    bool   \n",
            " 7   processor_brand            960 non-null    object \n",
            " 8   num_cores                  974 non-null    float64\n",
            " 9   processor_speed            938 non-null    float64\n",
            " 10  battery_capacity           969 non-null    float64\n",
            " 11  fast_charging_available    980 non-null    int64  \n",
            " 12  fast_charging              769 non-null    float64\n",
            " 13  ram_capacity               980 non-null    float64\n",
            " 14  internal_memory            980 non-null    float64\n",
            " 15  screen_size                980 non-null    float64\n",
            " 16  refresh_rate               980 non-null    int64  \n",
            " 17  resolution                 980 non-null    object \n",
            " 18  num_rear_cameras           980 non-null    int64  \n",
            " 19  num_front_cameras          976 non-null    float64\n",
            " 20  os                         966 non-null    object \n",
            " 21  primary_camera_rear        980 non-null    float64\n",
            " 22  primary_camera_front       975 non-null    float64\n",
            " 23  extended_memory_available  980 non-null    int64  \n",
            " 24  extended_upto              500 non-null    float64\n",
            "dtypes: bool(3), float64(12), int64(5), object(5)\n",
            "memory usage: 171.4+ KB\n"
          ]
        }
      ]
    },
    {
      "cell_type": "code",
      "source": [
        "df.isnull().sum()"
      ],
      "metadata": {
        "colab": {
          "base_uri": "https://localhost:8080/"
        },
        "id": "ng3S-wyx3e1W",
        "outputId": "c9a02b63-284d-48bd-f479-34039d6d1c24"
      },
      "execution_count": null,
      "outputs": [
        {
          "output_type": "execute_result",
          "data": {
            "text/plain": [
              "brand_name                     0\n",
              "model                          0\n",
              "price                          0\n",
              "rating                       101\n",
              "has_5g                         0\n",
              "has_nfc                        0\n",
              "has_ir_blaster                 0\n",
              "processor_brand               20\n",
              "num_cores                      6\n",
              "processor_speed               42\n",
              "battery_capacity              11\n",
              "fast_charging_available        0\n",
              "fast_charging                211\n",
              "ram_capacity                   0\n",
              "internal_memory                0\n",
              "screen_size                    0\n",
              "refresh_rate                   0\n",
              "resolution                     0\n",
              "num_rear_cameras               0\n",
              "num_front_cameras              4\n",
              "os                            14\n",
              "primary_camera_rear            0\n",
              "primary_camera_front           5\n",
              "extended_memory_available      0\n",
              "extended_upto                480\n",
              "dtype: int64"
            ]
          },
          "metadata": {},
          "execution_count": 12
        }
      ]
    },
    {
      "cell_type": "code",
      "source": [
        "df.head()"
      ],
      "metadata": {
        "colab": {
          "base_uri": "https://localhost:8080/",
          "height": 426
        },
        "id": "uzmkm20-4ZVJ",
        "outputId": "a9b14a4b-51b5-47fe-c86b-00e9dc627d72"
      },
      "execution_count": null,
      "outputs": [
        {
          "output_type": "execute_result",
          "data": {
            "text/plain": [
              "  brand_name                      model  price  rating  has_5g  has_nfc  \\\n",
              "0    oneplus              OnePlus 11 5G  54999    89.0    True     True   \n",
              "1    oneplus  OnePlus Nord CE 2 Lite 5G  19989    81.0    True    False   \n",
              "2    samsung      Samsung Galaxy A14 5G  16499    75.0    True    False   \n",
              "3   motorola       Motorola Moto G62 5G  14999    81.0    True    False   \n",
              "4     realme         Realme 10 Pro Plus  24999    82.0    True    False   \n",
              "\n",
              "   has_ir_blaster processor_brand  num_cores  processor_speed  \\\n",
              "0           False      snapdragon        8.0              3.2   \n",
              "1           False      snapdragon        8.0              2.2   \n",
              "2           False          exynos        8.0              2.4   \n",
              "3           False      snapdragon        8.0              2.2   \n",
              "4           False       dimensity        8.0              2.6   \n",
              "\n",
              "   battery_capacity  fast_charging_available  fast_charging  ram_capacity  \\\n",
              "0            5000.0                        1          100.0          12.0   \n",
              "1            5000.0                        1           33.0           6.0   \n",
              "2            5000.0                        1           15.0           4.0   \n",
              "3            5000.0                        1            NaN           6.0   \n",
              "4            5000.0                        1           67.0           6.0   \n",
              "\n",
              "   internal_memory  screen_size  refresh_rate    resolution  num_rear_cameras  \\\n",
              "0            256.0         6.70           120  1440 x 3216                  3   \n",
              "1            128.0         6.59           120  1080 x 2412                  3   \n",
              "2             64.0         6.60            90  1080 x 2408                  3   \n",
              "3            128.0         6.55           120  1080 x 2400                  3   \n",
              "4            128.0         6.70           120  1080 x 2412                  3   \n",
              "\n",
              "   num_front_cameras       os  primary_camera_rear  primary_camera_front  \\\n",
              "0                1.0  android                 50.0                  16.0   \n",
              "1                1.0  android                 64.0                  16.0   \n",
              "2                1.0  android                 50.0                  13.0   \n",
              "3                1.0  android                 50.0                  16.0   \n",
              "4                1.0  android                108.0                  16.0   \n",
              "\n",
              "   extended_memory_available  extended_upto  \n",
              "0                          0            NaN  \n",
              "1                          1         1024.0  \n",
              "2                          1         1024.0  \n",
              "3                          1         1024.0  \n",
              "4                          0            NaN  "
            ],
            "text/html": [
              "\n",
              "  <div id=\"df-e56af6ac-e657-40a9-a034-a53cd3bfc414\">\n",
              "    <div class=\"colab-df-container\">\n",
              "      <div>\n",
              "<style scoped>\n",
              "    .dataframe tbody tr th:only-of-type {\n",
              "        vertical-align: middle;\n",
              "    }\n",
              "\n",
              "    .dataframe tbody tr th {\n",
              "        vertical-align: top;\n",
              "    }\n",
              "\n",
              "    .dataframe thead th {\n",
              "        text-align: right;\n",
              "    }\n",
              "</style>\n",
              "<table border=\"1\" class=\"dataframe\">\n",
              "  <thead>\n",
              "    <tr style=\"text-align: right;\">\n",
              "      <th></th>\n",
              "      <th>brand_name</th>\n",
              "      <th>model</th>\n",
              "      <th>price</th>\n",
              "      <th>rating</th>\n",
              "      <th>has_5g</th>\n",
              "      <th>has_nfc</th>\n",
              "      <th>has_ir_blaster</th>\n",
              "      <th>processor_brand</th>\n",
              "      <th>num_cores</th>\n",
              "      <th>processor_speed</th>\n",
              "      <th>battery_capacity</th>\n",
              "      <th>fast_charging_available</th>\n",
              "      <th>fast_charging</th>\n",
              "      <th>ram_capacity</th>\n",
              "      <th>internal_memory</th>\n",
              "      <th>screen_size</th>\n",
              "      <th>refresh_rate</th>\n",
              "      <th>resolution</th>\n",
              "      <th>num_rear_cameras</th>\n",
              "      <th>num_front_cameras</th>\n",
              "      <th>os</th>\n",
              "      <th>primary_camera_rear</th>\n",
              "      <th>primary_camera_front</th>\n",
              "      <th>extended_memory_available</th>\n",
              "      <th>extended_upto</th>\n",
              "    </tr>\n",
              "  </thead>\n",
              "  <tbody>\n",
              "    <tr>\n",
              "      <th>0</th>\n",
              "      <td>oneplus</td>\n",
              "      <td>OnePlus 11 5G</td>\n",
              "      <td>54999</td>\n",
              "      <td>89.0</td>\n",
              "      <td>True</td>\n",
              "      <td>True</td>\n",
              "      <td>False</td>\n",
              "      <td>snapdragon</td>\n",
              "      <td>8.0</td>\n",
              "      <td>3.2</td>\n",
              "      <td>5000.0</td>\n",
              "      <td>1</td>\n",
              "      <td>100.0</td>\n",
              "      <td>12.0</td>\n",
              "      <td>256.0</td>\n",
              "      <td>6.70</td>\n",
              "      <td>120</td>\n",
              "      <td>1440 x 3216</td>\n",
              "      <td>3</td>\n",
              "      <td>1.0</td>\n",
              "      <td>android</td>\n",
              "      <td>50.0</td>\n",
              "      <td>16.0</td>\n",
              "      <td>0</td>\n",
              "      <td>NaN</td>\n",
              "    </tr>\n",
              "    <tr>\n",
              "      <th>1</th>\n",
              "      <td>oneplus</td>\n",
              "      <td>OnePlus Nord CE 2 Lite 5G</td>\n",
              "      <td>19989</td>\n",
              "      <td>81.0</td>\n",
              "      <td>True</td>\n",
              "      <td>False</td>\n",
              "      <td>False</td>\n",
              "      <td>snapdragon</td>\n",
              "      <td>8.0</td>\n",
              "      <td>2.2</td>\n",
              "      <td>5000.0</td>\n",
              "      <td>1</td>\n",
              "      <td>33.0</td>\n",
              "      <td>6.0</td>\n",
              "      <td>128.0</td>\n",
              "      <td>6.59</td>\n",
              "      <td>120</td>\n",
              "      <td>1080 x 2412</td>\n",
              "      <td>3</td>\n",
              "      <td>1.0</td>\n",
              "      <td>android</td>\n",
              "      <td>64.0</td>\n",
              "      <td>16.0</td>\n",
              "      <td>1</td>\n",
              "      <td>1024.0</td>\n",
              "    </tr>\n",
              "    <tr>\n",
              "      <th>2</th>\n",
              "      <td>samsung</td>\n",
              "      <td>Samsung Galaxy A14 5G</td>\n",
              "      <td>16499</td>\n",
              "      <td>75.0</td>\n",
              "      <td>True</td>\n",
              "      <td>False</td>\n",
              "      <td>False</td>\n",
              "      <td>exynos</td>\n",
              "      <td>8.0</td>\n",
              "      <td>2.4</td>\n",
              "      <td>5000.0</td>\n",
              "      <td>1</td>\n",
              "      <td>15.0</td>\n",
              "      <td>4.0</td>\n",
              "      <td>64.0</td>\n",
              "      <td>6.60</td>\n",
              "      <td>90</td>\n",
              "      <td>1080 x 2408</td>\n",
              "      <td>3</td>\n",
              "      <td>1.0</td>\n",
              "      <td>android</td>\n",
              "      <td>50.0</td>\n",
              "      <td>13.0</td>\n",
              "      <td>1</td>\n",
              "      <td>1024.0</td>\n",
              "    </tr>\n",
              "    <tr>\n",
              "      <th>3</th>\n",
              "      <td>motorola</td>\n",
              "      <td>Motorola Moto G62 5G</td>\n",
              "      <td>14999</td>\n",
              "      <td>81.0</td>\n",
              "      <td>True</td>\n",
              "      <td>False</td>\n",
              "      <td>False</td>\n",
              "      <td>snapdragon</td>\n",
              "      <td>8.0</td>\n",
              "      <td>2.2</td>\n",
              "      <td>5000.0</td>\n",
              "      <td>1</td>\n",
              "      <td>NaN</td>\n",
              "      <td>6.0</td>\n",
              "      <td>128.0</td>\n",
              "      <td>6.55</td>\n",
              "      <td>120</td>\n",
              "      <td>1080 x 2400</td>\n",
              "      <td>3</td>\n",
              "      <td>1.0</td>\n",
              "      <td>android</td>\n",
              "      <td>50.0</td>\n",
              "      <td>16.0</td>\n",
              "      <td>1</td>\n",
              "      <td>1024.0</td>\n",
              "    </tr>\n",
              "    <tr>\n",
              "      <th>4</th>\n",
              "      <td>realme</td>\n",
              "      <td>Realme 10 Pro Plus</td>\n",
              "      <td>24999</td>\n",
              "      <td>82.0</td>\n",
              "      <td>True</td>\n",
              "      <td>False</td>\n",
              "      <td>False</td>\n",
              "      <td>dimensity</td>\n",
              "      <td>8.0</td>\n",
              "      <td>2.6</td>\n",
              "      <td>5000.0</td>\n",
              "      <td>1</td>\n",
              "      <td>67.0</td>\n",
              "      <td>6.0</td>\n",
              "      <td>128.0</td>\n",
              "      <td>6.70</td>\n",
              "      <td>120</td>\n",
              "      <td>1080 x 2412</td>\n",
              "      <td>3</td>\n",
              "      <td>1.0</td>\n",
              "      <td>android</td>\n",
              "      <td>108.0</td>\n",
              "      <td>16.0</td>\n",
              "      <td>0</td>\n",
              "      <td>NaN</td>\n",
              "    </tr>\n",
              "  </tbody>\n",
              "</table>\n",
              "</div>\n",
              "      <button class=\"colab-df-convert\" onclick=\"convertToInteractive('df-e56af6ac-e657-40a9-a034-a53cd3bfc414')\"\n",
              "              title=\"Convert this dataframe to an interactive table.\"\n",
              "              style=\"display:none;\">\n",
              "        \n",
              "  <svg xmlns=\"http://www.w3.org/2000/svg\" height=\"24px\"viewBox=\"0 0 24 24\"\n",
              "       width=\"24px\">\n",
              "    <path d=\"M0 0h24v24H0V0z\" fill=\"none\"/>\n",
              "    <path d=\"M18.56 5.44l.94 2.06.94-2.06 2.06-.94-2.06-.94-.94-2.06-.94 2.06-2.06.94zm-11 1L8.5 8.5l.94-2.06 2.06-.94-2.06-.94L8.5 2.5l-.94 2.06-2.06.94zm10 10l.94 2.06.94-2.06 2.06-.94-2.06-.94-.94-2.06-.94 2.06-2.06.94z\"/><path d=\"M17.41 7.96l-1.37-1.37c-.4-.4-.92-.59-1.43-.59-.52 0-1.04.2-1.43.59L10.3 9.45l-7.72 7.72c-.78.78-.78 2.05 0 2.83L4 21.41c.39.39.9.59 1.41.59.51 0 1.02-.2 1.41-.59l7.78-7.78 2.81-2.81c.8-.78.8-2.07 0-2.86zM5.41 20L4 18.59l7.72-7.72 1.47 1.35L5.41 20z\"/>\n",
              "  </svg>\n",
              "      </button>\n",
              "      \n",
              "  <style>\n",
              "    .colab-df-container {\n",
              "      display:flex;\n",
              "      flex-wrap:wrap;\n",
              "      gap: 12px;\n",
              "    }\n",
              "\n",
              "    .colab-df-convert {\n",
              "      background-color: #E8F0FE;\n",
              "      border: none;\n",
              "      border-radius: 50%;\n",
              "      cursor: pointer;\n",
              "      display: none;\n",
              "      fill: #1967D2;\n",
              "      height: 32px;\n",
              "      padding: 0 0 0 0;\n",
              "      width: 32px;\n",
              "    }\n",
              "\n",
              "    .colab-df-convert:hover {\n",
              "      background-color: #E2EBFA;\n",
              "      box-shadow: 0px 1px 2px rgba(60, 64, 67, 0.3), 0px 1px 3px 1px rgba(60, 64, 67, 0.15);\n",
              "      fill: #174EA6;\n",
              "    }\n",
              "\n",
              "    [theme=dark] .colab-df-convert {\n",
              "      background-color: #3B4455;\n",
              "      fill: #D2E3FC;\n",
              "    }\n",
              "\n",
              "    [theme=dark] .colab-df-convert:hover {\n",
              "      background-color: #434B5C;\n",
              "      box-shadow: 0px 1px 3px 1px rgba(0, 0, 0, 0.15);\n",
              "      filter: drop-shadow(0px 1px 2px rgba(0, 0, 0, 0.3));\n",
              "      fill: #FFFFFF;\n",
              "    }\n",
              "  </style>\n",
              "\n",
              "      <script>\n",
              "        const buttonEl =\n",
              "          document.querySelector('#df-e56af6ac-e657-40a9-a034-a53cd3bfc414 button.colab-df-convert');\n",
              "        buttonEl.style.display =\n",
              "          google.colab.kernel.accessAllowed ? 'block' : 'none';\n",
              "\n",
              "        async function convertToInteractive(key) {\n",
              "          const element = document.querySelector('#df-e56af6ac-e657-40a9-a034-a53cd3bfc414');\n",
              "          const dataTable =\n",
              "            await google.colab.kernel.invokeFunction('convertToInteractive',\n",
              "                                                     [key], {});\n",
              "          if (!dataTable) return;\n",
              "\n",
              "          const docLinkHtml = 'Like what you see? Visit the ' +\n",
              "            '<a target=\"_blank\" href=https://colab.research.google.com/notebooks/data_table.ipynb>data table notebook</a>'\n",
              "            + ' to learn more about interactive tables.';\n",
              "          element.innerHTML = '';\n",
              "          dataTable['output_type'] = 'display_data';\n",
              "          await google.colab.output.renderOutput(dataTable, element);\n",
              "          const docLink = document.createElement('div');\n",
              "          docLink.innerHTML = docLinkHtml;\n",
              "          element.appendChild(docLink);\n",
              "        }\n",
              "      </script>\n",
              "    </div>\n",
              "  </div>\n",
              "  "
            ]
          },
          "metadata": {},
          "execution_count": 13
        }
      ]
    },
    {
      "cell_type": "code",
      "source": [
        "# brand_name"
      ],
      "metadata": {
        "id": "y8qSOTD26eLB"
      },
      "execution_count": null,
      "outputs": []
    },
    {
      "cell_type": "code",
      "source": [
        "# plot a graph of top 5 brands\n",
        "df['brand_name'].value_counts().head(10).plot(kind='bar')"
      ],
      "metadata": {
        "colab": {
          "base_uri": "https://localhost:8080/",
          "height": 321
        },
        "id": "TlFM_1ZU6vTP",
        "outputId": "6104aa44-ad7e-41d0-a3e4-46e24e40006f"
      },
      "execution_count": null,
      "outputs": [
        {
          "output_type": "execute_result",
          "data": {
            "text/plain": [
              "<matplotlib.axes._subplots.AxesSubplot at 0x7fb9a0284ca0>"
            ]
          },
          "metadata": {},
          "execution_count": 17
        },
        {
          "output_type": "display_data",
          "data": {
            "text/plain": [
              "<Figure size 432x288 with 1 Axes>"
            ],
            "image/png": "[encoded data removed]"
          },
          "metadata": {
            "needs_background": "light"
          }
        }
      ]
    },
    {
      "cell_type": "code",
      "source": [
        "# pie chart\n",
        "df['brand_name'].value_counts().plot(kind='pie',autopct='%0.1f%%')"
      ],
      "metadata": {
        "colab": {
          "base_uri": "https://localhost:8080/",
          "height": 265
        },
        "id": "zBuhav2H6yDh",
        "outputId": "f536640e-5e8e-4d6d-c71a-4da821e26ab2"
      },
      "execution_count": null,
      "outputs": [
        {
          "output_type": "execute_result",
          "data": {
            "text/plain": [
              "<matplotlib.axes._subplots.AxesSubplot at 0x7fb9a01e57c0>"
            ]
          },
          "metadata": {},
          "execution_count": 19
        },
        {
          "output_type": "display_data",
          "data": {
            "text/plain": [
              "<Figure size 432x288 with 1 Axes>"
            ],
            "image/png": "[encoded data removed]"
          },
          "metadata": {}
        }
      ]
    },
    {
      "cell_type": "code",
      "source": [
        "df['brand_name'].isnull().sum()"
      ],
      "metadata": {
        "colab": {
          "base_uri": "https://localhost:8080/"
        },
        "id": "PnyFi1TC7MzW",
        "outputId": "0ebb8896-8158-45a4-eb2b-d738ab88afcb"
      },
      "execution_count": null,
      "outputs": [
        {
          "output_type": "execute_result",
          "data": {
            "text/plain": [
              "0"
            ]
          },
          "metadata": {},
          "execution_count": 20
        }
      ]
    },
    {
      "cell_type": "code",
      "source": [
        "# model\n",
        "df['model'].nunique()"
      ],
      "metadata": {
        "colab": {
          "base_uri": "https://localhost:8080/"
        },
        "id": "tkEt7deZ7bYb",
        "outputId": "cc034ea1-5c33-4032-81e8-22af9163dfad"
      },
      "execution_count": null,
      "outputs": [
        {
          "output_type": "execute_result",
          "data": {
            "text/plain": [
              "980"
            ]
          },
          "metadata": {},
          "execution_count": 22
        }
      ]
    },
    {
      "cell_type": "code",
      "source": [
        "# price\n",
        "df['price'].describe()"
      ],
      "metadata": {
        "colab": {
          "base_uri": "https://localhost:8080/"
        },
        "id": "Y7Pd4CIA7in_",
        "outputId": "223e3592-e2f2-4be0-a54d-9b7030c9a920"
      },
      "execution_count": null,
      "outputs": [
        {
          "output_type": "execute_result",
          "data": {
            "text/plain": [
              "count       980.000000\n",
              "mean      32520.504082\n",
              "std       39531.812669\n",
              "min        3499.000000\n",
              "25%       12999.000000\n",
              "50%       19994.500000\n",
              "75%       35491.500000\n",
              "max      650000.000000\n",
              "Name: price, dtype: float64"
            ]
          },
          "metadata": {},
          "execution_count": 23
        }
      ]
    },
    {
      "cell_type": "code",
      "source": [
        "sns.displot(kind='hist',data=df,x='price',kde=True)"
      ],
      "metadata": {
        "colab": {
          "base_uri": "https://localhost:8080/",
          "height": 386
        },
        "id": "kVgFBf6a8APc",
        "outputId": "d9c65304-1ebe-4f86-d61f-867b657a33fe"
      },
      "execution_count": null,
      "outputs": [
        {
          "output_type": "execute_result",
          "data": {
            "text/plain": [
              "<seaborn.axisgrid.FacetGrid at 0x7fb9a01fbb50>"
            ]
          },
          "metadata": {},
          "execution_count": 24
        },
        {
          "output_type": "display_data",
          "data": {
            "text/plain": [
              "<Figure size 360x360 with 1 Axes>"
            ],
            "image/png": "[encoded data removed]"
          },
          "metadata": {
            "needs_background": "light"
          }
        }
      ]
    },
    {
      "cell_type": "code",
      "source": [
        "df['price'].skew()"
      ],
      "metadata": {
        "colab": {
          "base_uri": "https://localhost:8080/"
        },
        "id": "p8pSOLm08gC6",
        "outputId": "4626e8ce-162a-4d1f-ae59-1e5c56c2d698"
      },
      "execution_count": null,
      "outputs": [
        {
          "output_type": "execute_result",
          "data": {
            "text/plain": [
              "6.591790999665567"
            ]
          },
          "metadata": {},
          "execution_count": 25
        }
      ]
    },
    {
      "cell_type": "code",
      "source": [
        "sns.boxplot(df['price'])"
      ],
      "metadata": {
        "colab": {
          "base_uri": "https://localhost:8080/",
          "height": 351
        },
        "id": "Q2tFpXvs8vds",
        "outputId": "44a5f637-52a7-4cd7-e48a-f0202d470cea"
      },
      "execution_count": null,
      "outputs": [
        {
          "output_type": "stream",
          "name": "stderr",
          "text": [
            "/usr/local/lib/python3.8/dist-packages/seaborn/_decorators.py:36: FutureWarning: Pass the following variable as a keyword arg: x. From version 0.12, the only valid positional argument will be `data`, and passing other arguments without an explicit keyword will result in an error or misinterpretation.\n",
            "  warnings.warn(\n"
          ]
        },
        {
          "output_type": "execute_result",
          "data": {
            "text/plain": [
              "<matplotlib.axes._subplots.AxesSubplot at 0x7fb9a0208400>"
            ]
          },
          "metadata": {},
          "execution_count": 26
        },
        {
          "output_type": "display_data",
          "data": {
            "text/plain": [
              "<Figure size 432x288 with 1 Axes>"
            ],
            "image/png": "[encoded data removed]"
          },
          "metadata": {
            "needs_background": "light"
          }
        }
      ]
    },
    {
      "cell_type": "code",
      "source": [
        "df[df['price'] > 250000]"
      ],
      "metadata": {
        "colab": {
          "base_uri": "https://localhost:8080/",
          "height": 1000
        },
        "id": "BnkAZcU284KC",
        "outputId": "7ebc8be3-17ae-4b8e-8c25-a7e4bfef0465"
      },
      "execution_count": null,
      "outputs": [
        {
          "output_type": "execute_result",
          "data": {
            "text/plain": [
              "    brand_name                                     model   price  rating  \\\n",
              "288      apple             Apple iPhone 14 Pro Max (1TB)  182999    78.0   \n",
              "319    samsung                   Samsung Galaxy Z Fold 4  154998     NaN   \n",
              "427      vertu                     Vertu Signature Touch  650000    62.0   \n",
              "458     xiaomi                       Xiaomi Mi Mix Alpha  199990     NaN   \n",
              "478     huawei          Huawei Mate 50 RS Porsche Design  239999    81.0   \n",
              "704     huawei                          Huawei Mate Xs 2  162990    89.0   \n",
              "739      apple           Apple iPhone 14 Pro Max (512GB)  169900    78.0   \n",
              "756      apple             Apple iPhone 13 Pro Max (1TB)  179900    86.0   \n",
              "789      apple                 Apple iPhone 14 Pro (1TB)  172999    77.0   \n",
              "887     xiaomi    Xiaomi Redmi K20 Pro Signature Edition  480000    88.0   \n",
              "905    samsung  Samsung Galaxy Z Fold 4 (12GB RAM + 1TB)  163980     NaN   \n",
              "951     huawei          Huawei Mate 30 RS Porsche Design  214990     NaN   \n",
              "954     huawei                             Huawei Mate X  169000     NaN   \n",
              "\n",
              "     has_5g  has_nfc  has_ir_blaster processor_brand  num_cores  \\\n",
              "288    True     True           False          bionic        6.0   \n",
              "319    True     True           False      snapdragon        8.0   \n",
              "427   False     True           False      snapdragon        8.0   \n",
              "458    True    False           False      snapdragon        8.0   \n",
              "478   False     True            True      snapdragon        8.0   \n",
              "704   False     True            True      snapdragon        8.0   \n",
              "739    True     True           False          bionic        6.0   \n",
              "756    True     True           False          bionic        6.0   \n",
              "789    True     True           False          bionic        6.0   \n",
              "887   False     True           False      snapdragon        8.0   \n",
              "905    True     True           False      snapdragon        8.0   \n",
              "951    True     True            True           kirin        8.0   \n",
              "954    True     True            True           kirin        8.0   \n",
              "\n",
              "     processor_speed  battery_capacity  fast_charging_available  \\\n",
              "288              NaN            4323.0                        1   \n",
              "319             3.20            4400.0                        1   \n",
              "427             1.50            2275.0                        0   \n",
              "458             2.96            4050.0                        1   \n",
              "478             3.20            4700.0                        1   \n",
              "704             2.84            4600.0                        1   \n",
              "739              NaN            4323.0                        1   \n",
              "756             3.22            4352.0                        1   \n",
              "789              NaN            3200.0                        1   \n",
              "887             2.80            4000.0                        1   \n",
              "905             3.20            4400.0                        1   \n",
              "951             2.86            4500.0                        1   \n",
              "954             2.86            4500.0                        1   \n",
              "\n",
              "     fast_charging  ram_capacity  internal_memory  screen_size  refresh_rate  \\\n",
              "288            NaN           6.0           1024.0         6.70           120   \n",
              "319           25.0          12.0            256.0         7.60           120   \n",
              "427            NaN           2.0             64.0         4.70            60   \n",
              "458           40.0          12.0            512.0         7.92            60   \n",
              "478           66.0          12.0            512.0         6.74           120   \n",
              "704           66.0           8.0            512.0         7.80           120   \n",
              "739            NaN           6.0            512.0         6.70           120   \n",
              "756            NaN           6.0           1024.0         6.70           120   \n",
              "789            NaN           6.0           1024.0         6.10           120   \n",
              "887           27.0           8.0            256.0         6.39            60   \n",
              "905           25.0          12.0           1024.0         7.60           120   \n",
              "951            NaN          12.0            512.0         6.53            60   \n",
              "954           55.0           8.0            512.0         8.00            60   \n",
              "\n",
              "       resolution  num_rear_cameras  num_front_cameras       os  \\\n",
              "288  1290 x 2796                  3                1.0      ios   \n",
              "319  1812 x 2176                  3                2.0  android   \n",
              "427  1080 x 1920                  1                1.0  android   \n",
              "458  2088 x 2250                  3                NaN  android   \n",
              "478  1212 x 2616                  3                1.0    other   \n",
              "704  2200 x 2480                  3                1.0      NaN   \n",
              "739  1290 x 2796                  3                1.0      ios   \n",
              "756  1284 x 2778                  3                1.0      ios   \n",
              "789  1179 x 2556                  3                1.0      ios   \n",
              "887  1080 x 2340                  3                1.0  android   \n",
              "905  1812 x 2176                  3                2.0  android   \n",
              "951  1176 x 2400                  4                2.0  android   \n",
              "954  2200 x 2480                  4                NaN      NaN   \n",
              "\n",
              "     primary_camera_rear  primary_camera_front  extended_memory_available  \\\n",
              "288                 48.0                  12.0                          0   \n",
              "319                 50.0                  10.0                          0   \n",
              "427                 13.0                   2.1                          0   \n",
              "458                108.0                   NaN                          0   \n",
              "478                 50.0                  13.0                          1   \n",
              "704                 50.0                  10.7                          0   \n",
              "739                 48.0                  12.0                          0   \n",
              "756                 12.0                  12.0                          0   \n",
              "789                 48.0                  12.0                          0   \n",
              "887                 48.0                  20.0                          0   \n",
              "905                 50.0                  10.0                          0   \n",
              "951                 40.0                  32.0                          1   \n",
              "954                 48.0                   NaN                          0   \n",
              "\n",
              "     extended_upto  \n",
              "288            NaN  \n",
              "319            NaN  \n",
              "427            NaN  \n",
              "458            NaN  \n",
              "478          256.0  \n",
              "704            NaN  \n",
              "739            NaN  \n",
              "756            NaN  \n",
              "789            NaN  \n",
              "887            NaN  \n",
              "905            NaN  \n",
              "951          256.0  \n",
              "954            NaN  "
            ],
            "text/html": [
              "\n",
              "  <div id=\"df-a78fe617-5cca-4204-9342-dcab6db5a2d8\">\n",
              "    <div class=\"colab-df-container\">\n",
              "      <div>\n",
              "<style scoped>\n",
              "    .dataframe tbody tr th:only-of-type {\n",
              "        vertical-align: middle;\n",
              "    }\n",
              "\n",
              "    .dataframe tbody tr th {\n",
              "        vertical-align: top;\n",
              "    }\n",
              "\n",
              "    .dataframe thead th {\n",
              "        text-align: right;\n",
              "    }\n",
              "</style>\n",
              "<table border=\"1\" class=\"dataframe\">\n",
              "  <thead>\n",
              "    <tr style=\"text-align: right;\">\n",
              "      <th></th>\n",
              "      <th>brand_name</th>\n",
              "      <th>model</th>\n",
              "      <th>price</th>\n",
              "      <th>rating</th>\n",
              "      <th>has_5g</th>\n",
              "      <th>has_nfc</th>\n",
              "      <th>has_ir_blaster</th>\n",
              "      <th>processor_brand</th>\n",
              "      <th>num_cores</th>\n",
              "      <th>processor_speed</th>\n",
              "      <th>battery_capacity</th>\n",
              "      <th>fast_charging_available</th>\n",
              "      <th>fast_charging</th>\n",
              "      <th>ram_capacity</th>\n",
              "      <th>internal_memory</th>\n",
              "      <th>screen_size</th>\n",
              "      <th>refresh_rate</th>\n",
              "      <th>resolution</th>\n",
              "      <th>num_rear_cameras</th>\n",
              "      <th>num_front_cameras</th>\n",
              "      <th>os</th>\n",
              "      <th>primary_camera_rear</th>\n",
              "      <th>primary_camera_front</th>\n",
              "      <th>extended_memory_available</th>\n",
              "      <th>extended_upto</th>\n",
              "    </tr>\n",
              "  </thead>\n",
              "  <tbody>\n",
              "    <tr>\n",
              "      <th>288</th>\n",
              "      <td>apple</td>\n",
              "      <td>Apple iPhone 14 Pro Max (1TB)</td>\n",
              "      <td>182999</td>\n",
              "      <td>78.0</td>\n",
              "      <td>True</td>\n",
              "      <td>True</td>\n",
              "      <td>False</td>\n",
              "      <td>bionic</td>\n",
              "      <td>6.0</td>\n",
              "      <td>NaN</td>\n",
              "      <td>4323.0</td>\n",
              "      <td>1</td>\n",
              "      <td>NaN</td>\n",
              "      <td>6.0</td>\n",
              "      <td>1024.0</td>\n",
              "      <td>6.70</td>\n",
              "      <td>120</td>\n",
              "      <td>1290 x 2796</td>\n",
              "      <td>3</td>\n",
              "      <td>1.0</td>\n",
              "      <td>ios</td>\n",
              "      <td>48.0</td>\n",
              "      <td>12.0</td>\n",
              "      <td>0</td>\n",
              "      <td>NaN</td>\n",
              "    </tr>\n",
              "    <tr>\n",
              "      <th>319</th>\n",
              "      <td>samsung</td>\n",
              "      <td>Samsung Galaxy Z Fold 4</td>\n",
              "      <td>154998</td>\n",
              "      <td>NaN</td>\n",
              "      <td>True</td>\n",
              "      <td>True</td>\n",
              "      <td>False</td>\n",
              "      <td>snapdragon</td>\n",
              "      <td>8.0</td>\n",
              "      <td>3.20</td>\n",
              "      <td>4400.0</td>\n",
              "      <td>1</td>\n",
              "      <td>25.0</td>\n",
              "      <td>12.0</td>\n",
              "      <td>256.0</td>\n",
              "      <td>7.60</td>\n",
              "      <td>120</td>\n",
              "      <td>1812 x 2176</td>\n",
              "      <td>3</td>\n",
              "      <td>2.0</td>\n",
              "      <td>android</td>\n",
              "      <td>50.0</td>\n",
              "      <td>10.0</td>\n",
              "      <td>0</td>\n",
              "      <td>NaN</td>\n",
              "    </tr>\n",
              "    <tr>\n",
              "      <th>427</th>\n",
              "      <td>vertu</td>\n",
              "      <td>Vertu Signature Touch</td>\n",
              "      <td>650000</td>\n",
              "      <td>62.0</td>\n",
              "      <td>False</td>\n",
              "      <td>True</td>\n",
              "      <td>False</td>\n",
              "      <td>snapdragon</td>\n",
              "      <td>8.0</td>\n",
              "      <td>1.50</td>\n",
              "      <td>2275.0</td>\n",
              "      <td>0</td>\n",
              "      <td>NaN</td>\n",
              "      <td>2.0</td>\n",
              "      <td>64.0</td>\n",
              "      <td>4.70</td>\n",
              "      <td>60</td>\n",
              "      <td>1080 x 1920</td>\n",
              "      <td>1</td>\n",
              "      <td>1.0</td>\n",
              "      <td>android</td>\n",
              "      <td>13.0</td>\n",
              "      <td>2.1</td>\n",
              "      <td>0</td>\n",
              "      <td>NaN</td>\n",
              "    </tr>\n",
              "    <tr>\n",
              "      <th>458</th>\n",
              "      <td>xiaomi</td>\n",
              "      <td>Xiaomi Mi Mix Alpha</td>\n",
              "      <td>199990</td>\n",
              "      <td>NaN</td>\n",
              "      <td>True</td>\n",
              "      <td>False</td>\n",
              "      <td>False</td>\n",
              "      <td>snapdragon</td>\n",
              "      <td>8.0</td>\n",
              "      <td>2.96</td>\n",
              "      <td>4050.0</td>\n",
              "      <td>1</td>\n",
              "      <td>40.0</td>\n",
              "      <td>12.0</td>\n",
              "      <td>512.0</td>\n",
              "      <td>7.92</td>\n",
              "      <td>60</td>\n",
              "      <td>2088 x 2250</td>\n",
              "      <td>3</td>\n",
              "      <td>NaN</td>\n",
              "      <td>android</td>\n",
              "      <td>108.0</td>\n",
              "      <td>NaN</td>\n",
              "      <td>0</td>\n",
              "      <td>NaN</td>\n",
              "    </tr>\n",
              "    <tr>\n",
              "      <th>478</th>\n",
              "      <td>huawei</td>\n",
              "      <td>Huawei Mate 50 RS Porsche Design</td>\n",
              "      <td>239999</td>\n",
              "      <td>81.0</td>\n",
              "      <td>False</td>\n",
              "      <td>True</td>\n",
              "      <td>True</td>\n",
              "      <td>snapdragon</td>\n",
              "      <td>8.0</td>\n",
              "      <td>3.20</td>\n",
              "      <td>4700.0</td>\n",
              "      <td>1</td>\n",
              "      <td>66.0</td>\n",
              "      <td>12.0</td>\n",
              "      <td>512.0</td>\n",
              "      <td>6.74</td>\n",
              "      <td>120</td>\n",
              "      <td>1212 x 2616</td>\n",
              "      <td>3</td>\n",
              "      <td>1.0</td>\n",
              "      <td>other</td>\n",
              "      <td>50.0</td>\n",
              "      <td>13.0</td>\n",
              "      <td>1</td>\n",
              "      <td>256.0</td>\n",
              "    </tr>\n",
              "    <tr>\n",
              "      <th>704</th>\n",
              "      <td>huawei</td>\n",
              "      <td>Huawei Mate Xs 2</td>\n",
              "      <td>162990</td>\n",
              "      <td>89.0</td>\n",
              "      <td>False</td>\n",
              "      <td>True</td>\n",
              "      <td>True</td>\n",
              "      <td>snapdragon</td>\n",
              "      <td>8.0</td>\n",
              "      <td>2.84</td>\n",
              "      <td>4600.0</td>\n",
              "      <td>1</td>\n",
              "      <td>66.0</td>\n",
              "      <td>8.0</td>\n",
              "      <td>512.0</td>\n",
              "      <td>7.80</td>\n",
              "      <td>120</td>\n",
              "      <td>2200 x 2480</td>\n",
              "      <td>3</td>\n",
              "      <td>1.0</td>\n",
              "      <td>NaN</td>\n",
              "      <td>50.0</td>\n",
              "      <td>10.7</td>\n",
              "      <td>0</td>\n",
              "      <td>NaN</td>\n",
              "    </tr>\n",
              "    <tr>\n",
              "      <th>739</th>\n",
              "      <td>apple</td>\n",
              "      <td>Apple iPhone 14 Pro Max (512GB)</td>\n",
              "      <td>169900</td>\n",
              "      <td>78.0</td>\n",
              "      <td>True</td>\n",
              "      <td>True</td>\n",
              "      <td>False</td>\n",
              "      <td>bionic</td>\n",
              "      <td>6.0</td>\n",
              "      <td>NaN</td>\n",
              "      <td>4323.0</td>\n",
              "      <td>1</td>\n",
              "      <td>NaN</td>\n",
              "      <td>6.0</td>\n",
              "      <td>512.0</td>\n",
              "      <td>6.70</td>\n",
              "      <td>120</td>\n",
              "      <td>1290 x 2796</td>\n",
              "      <td>3</td>\n",
              "      <td>1.0</td>\n",
              "      <td>ios</td>\n",
              "      <td>48.0</td>\n",
              "      <td>12.0</td>\n",
              "      <td>0</td>\n",
              "      <td>NaN</td>\n",
              "    </tr>\n",
              "    <tr>\n",
              "      <th>756</th>\n",
              "      <td>apple</td>\n",
              "      <td>Apple iPhone 13 Pro Max (1TB)</td>\n",
              "      <td>179900</td>\n",
              "      <td>86.0</td>\n",
              "      <td>True</td>\n",
              "      <td>True</td>\n",
              "      <td>False</td>\n",
              "      <td>bionic</td>\n",
              "      <td>6.0</td>\n",
              "      <td>3.22</td>\n",
              "      <td>4352.0</td>\n",
              "      <td>1</td>\n",
              "      <td>NaN</td>\n",
              "      <td>6.0</td>\n",
              "      <td>1024.0</td>\n",
              "      <td>6.70</td>\n",
              "      <td>120</td>\n",
              "      <td>1284 x 2778</td>\n",
              "      <td>3</td>\n",
              "      <td>1.0</td>\n",
              "      <td>ios</td>\n",
              "      <td>12.0</td>\n",
              "      <td>12.0</td>\n",
              "      <td>0</td>\n",
              "      <td>NaN</td>\n",
              "    </tr>\n",
              "    <tr>\n",
              "      <th>789</th>\n",
              "      <td>apple</td>\n",
              "      <td>Apple iPhone 14 Pro (1TB)</td>\n",
              "      <td>172999</td>\n",
              "      <td>77.0</td>\n",
              "      <td>True</td>\n",
              "      <td>True</td>\n",
              "      <td>False</td>\n",
              "      <td>bionic</td>\n",
              "      <td>6.0</td>\n",
              "      <td>NaN</td>\n",
              "      <td>3200.0</td>\n",
              "      <td>1</td>\n",
              "      <td>NaN</td>\n",
              "      <td>6.0</td>\n",
              "      <td>1024.0</td>\n",
              "      <td>6.10</td>\n",
              "      <td>120</td>\n",
              "      <td>1179 x 2556</td>\n",
              "      <td>3</td>\n",
              "      <td>1.0</td>\n",
              "      <td>ios</td>\n",
              "      <td>48.0</td>\n",
              "      <td>12.0</td>\n",
              "      <td>0</td>\n",
              "      <td>NaN</td>\n",
              "    </tr>\n",
              "    <tr>\n",
              "      <th>887</th>\n",
              "      <td>xiaomi</td>\n",
              "      <td>Xiaomi Redmi K20 Pro Signature Edition</td>\n",
              "      <td>480000</td>\n",
              "      <td>88.0</td>\n",
              "      <td>False</td>\n",
              "      <td>True</td>\n",
              "      <td>False</td>\n",
              "      <td>snapdragon</td>\n",
              "      <td>8.0</td>\n",
              "      <td>2.80</td>\n",
              "      <td>4000.0</td>\n",
              "      <td>1</td>\n",
              "      <td>27.0</td>\n",
              "      <td>8.0</td>\n",
              "      <td>256.0</td>\n",
              "      <td>6.39</td>\n",
              "      <td>60</td>\n",
              "      <td>1080 x 2340</td>\n",
              "      <td>3</td>\n",
              "      <td>1.0</td>\n",
              "      <td>android</td>\n",
              "      <td>48.0</td>\n",
              "      <td>20.0</td>\n",
              "      <td>0</td>\n",
              "      <td>NaN</td>\n",
              "    </tr>\n",
              "    <tr>\n",
              "      <th>905</th>\n",
              "      <td>samsung</td>\n",
              "      <td>Samsung Galaxy Z Fold 4 (12GB RAM + 1TB)</td>\n",
              "      <td>163980</td>\n",
              "      <td>NaN</td>\n",
              "      <td>True</td>\n",
              "      <td>True</td>\n",
              "      <td>False</td>\n",
              "      <td>snapdragon</td>\n",
              "      <td>8.0</td>\n",
              "      <td>3.20</td>\n",
              "      <td>4400.0</td>\n",
              "      <td>1</td>\n",
              "      <td>25.0</td>\n",
              "      <td>12.0</td>\n",
              "      <td>1024.0</td>\n",
              "      <td>7.60</td>\n",
              "      <td>120</td>\n",
              "      <td>1812 x 2176</td>\n",
              "      <td>3</td>\n",
              "      <td>2.0</td>\n",
              "      <td>android</td>\n",
              "      <td>50.0</td>\n",
              "      <td>10.0</td>\n",
              "      <td>0</td>\n",
              "      <td>NaN</td>\n",
              "    </tr>\n",
              "    <tr>\n",
              "      <th>951</th>\n",
              "      <td>huawei</td>\n",
              "      <td>Huawei Mate 30 RS Porsche Design</td>\n",
              "      <td>214990</td>\n",
              "      <td>NaN</td>\n",
              "      <td>True</td>\n",
              "      <td>True</td>\n",
              "      <td>True</td>\n",
              "      <td>kirin</td>\n",
              "      <td>8.0</td>\n",
              "      <td>2.86</td>\n",
              "      <td>4500.0</td>\n",
              "      <td>1</td>\n",
              "      <td>NaN</td>\n",
              "      <td>12.0</td>\n",
              "      <td>512.0</td>\n",
              "      <td>6.53</td>\n",
              "      <td>60</td>\n",
              "      <td>1176 x 2400</td>\n",
              "      <td>4</td>\n",
              "      <td>2.0</td>\n",
              "      <td>android</td>\n",
              "      <td>40.0</td>\n",
              "      <td>32.0</td>\n",
              "      <td>1</td>\n",
              "      <td>256.0</td>\n",
              "    </tr>\n",
              "    <tr>\n",
              "      <th>954</th>\n",
              "      <td>huawei</td>\n",
              "      <td>Huawei Mate X</td>\n",
              "      <td>169000</td>\n",
              "      <td>NaN</td>\n",
              "      <td>True</td>\n",
              "      <td>True</td>\n",
              "      <td>True</td>\n",
              "      <td>kirin</td>\n",
              "      <td>8.0</td>\n",
              "      <td>2.86</td>\n",
              "      <td>4500.0</td>\n",
              "      <td>1</td>\n",
              "      <td>55.0</td>\n",
              "      <td>8.0</td>\n",
              "      <td>512.0</td>\n",
              "      <td>8.00</td>\n",
              "      <td>60</td>\n",
              "      <td>2200 x 2480</td>\n",
              "      <td>4</td>\n",
              "      <td>NaN</td>\n",
              "      <td>NaN</td>\n",
              "      <td>48.0</td>\n",
              "      <td>NaN</td>\n",
              "      <td>0</td>\n",
              "      <td>NaN</td>\n",
              "    </tr>\n",
              "  </tbody>\n",
              "</table>\n",
              "</div>\n",
              "      <button class=\"colab-df-convert\" onclick=\"convertToInteractive('df-a78fe617-5cca-4204-9342-dcab6db5a2d8')\"\n",
              "              title=\"Convert this dataframe to an interactive table.\"\n",
              "              style=\"display:none;\">\n",
              "        \n",
              "  <svg xmlns=\"http://www.w3.org/2000/svg\" height=\"24px\"viewBox=\"0 0 24 24\"\n",
              "       width=\"24px\">\n",
              "    <path d=\"M0 0h24v24H0V0z\" fill=\"none\"/>\n",
              "    <path d=\"M18.56 5.44l.94 2.06.94-2.06 2.06-.94-2.06-.94-.94-2.06-.94 2.06-2.06.94zm-11 1L8.5 8.5l.94-2.06 2.06-.94-2.06-.94L8.5 2.5l-.94 2.06-2.06.94zm10 10l.94 2.06.94-2.06 2.06-.94-2.06-.94-.94-2.06-.94 2.06-2.06.94z\"/><path d=\"M17.41 7.96l-1.37-1.37c-.4-.4-.92-.59-1.43-.59-.52 0-1.04.2-1.43.59L10.3 9.45l-7.72 7.72c-.78.78-.78 2.05 0 2.83L4 21.41c.39.39.9.59 1.41.59.51 0 1.02-.2 1.41-.59l7.78-7.78 2.81-2.81c.8-.78.8-2.07 0-2.86zM5.41 20L4 18.59l7.72-7.72 1.47 1.35L5.41 20z\"/>\n",
              "  </svg>\n",
              "      </button>\n",
              "      \n",
              "  <style>\n",
              "    .colab-df-container {\n",
              "      display:flex;\n",
              "      flex-wrap:wrap;\n",
              "      gap: 12px;\n",
              "    }\n",
              "\n",
              "    .colab-df-convert {\n",
              "      background-color: #E8F0FE;\n",
              "      border: none;\n",
              "      border-radius: 50%;\n",
              "      cursor: pointer;\n",
              "      display: none;\n",
              "      fill: #1967D2;\n",
              "      height: 32px;\n",
              "      padding: 0 0 0 0;\n",
              "      width: 32px;\n",
              "    }\n",
              "\n",
              "    .colab-df-convert:hover {\n",
              "      background-color: #E2EBFA;\n",
              "      box-shadow: 0px 1px 2px rgba(60, 64, 67, 0.3), 0px 1px 3px 1px rgba(60, 64, 67, 0.15);\n",
              "      fill: #174EA6;\n",
              "    }\n",
              "\n",
              "    [theme=dark] .colab-df-convert {\n",
              "      background-color: #3B4455;\n",
              "      fill: #D2E3FC;\n",
              "    }\n",
              "\n",
              "    [theme=dark] .colab-df-convert:hover {\n",
              "      background-color: #434B5C;\n",
              "      box-shadow: 0px 1px 3px 1px rgba(0, 0, 0, 0.15);\n",
              "      filter: drop-shadow(0px 1px 2px rgba(0, 0, 0, 0.3));\n",
              "      fill: #FFFFFF;\n",
              "    }\n",
              "  </style>\n",
              "\n",
              "      <script>\n",
              "        const buttonEl =\n",
              "          document.querySelector('#df-a78fe617-5cca-4204-9342-dcab6db5a2d8 button.colab-df-convert');\n",
              "        buttonEl.style.display =\n",
              "          google.colab.kernel.accessAllowed ? 'block' : 'none';\n",
              "\n",
              "        async function convertToInteractive(key) {\n",
              "          const element = document.querySelector('#df-a78fe617-5cca-4204-9342-dcab6db5a2d8');\n",
              "          const dataTable =\n",
              "            await google.colab.kernel.invokeFunction('convertToInteractive',\n",
              "                                                     [key], {});\n",
              "          if (!dataTable) return;\n",
              "\n",
              "          const docLinkHtml = 'Like what you see? Visit the ' +\n",
              "            '<a target=\"_blank\" href=https://colab.research.google.com/notebooks/data_table.ipynb>data table notebook</a>'\n",
              "            + ' to learn more about interactive tables.';\n",
              "          element.innerHTML = '';\n",
              "          dataTable['output_type'] = 'display_data';\n",
              "          await google.colab.output.renderOutput(dataTable, element);\n",
              "          const docLink = document.createElement('div');\n",
              "          docLink.innerHTML = docLinkHtml;\n",
              "          element.appendChild(docLink);\n",
              "        }\n",
              "      </script>\n",
              "    </div>\n",
              "  </div>\n",
              "  "
            ]
          },
          "metadata": {},
          "execution_count": 28
        }
      ]
    },
    {
      "cell_type": "code",
      "source": [
        "df['price'].isnull().sum()"
      ],
      "metadata": {
        "colab": {
          "base_uri": "https://localhost:8080/"
        },
        "id": "o6_fODFf9S8G",
        "outputId": "46b2cae5-ae6f-474c-d163-509e32f68ac6"
      },
      "execution_count": null,
      "outputs": [
        {
          "output_type": "execute_result",
          "data": {
            "text/plain": [
              "0"
            ]
          },
          "metadata": {},
          "execution_count": 29
        }
      ]
    },
    {
      "cell_type": "code",
      "source": [
        "df['rating'].describe()"
      ],
      "metadata": {
        "colab": {
          "base_uri": "https://localhost:8080/"
        },
        "id": "a3hTuD9M-bB5",
        "outputId": "d1cab27b-a330-4032-9919-65ebc30074da"
      },
      "execution_count": null,
      "outputs": [
        {
          "output_type": "execute_result",
          "data": {
            "text/plain": [
              "count    879.000000\n",
              "mean      78.258248\n",
              "std        7.402854\n",
              "min       60.000000\n",
              "25%       74.000000\n",
              "50%       80.000000\n",
              "75%       84.000000\n",
              "max       89.000000\n",
              "Name: rating, dtype: float64"
            ]
          },
          "metadata": {},
          "execution_count": 30
        }
      ]
    },
    {
      "cell_type": "code",
      "source": [
        "sns.displot(kind='hist',data=df,x='rating',kde=True)"
      ],
      "metadata": {
        "colab": {
          "base_uri": "https://localhost:8080/",
          "height": 386
        },
        "id": "B1iOtrPT-kuU",
        "outputId": "52e9143a-fa48-4dca-f270-e0fbb85588fc"
      },
      "execution_count": null,
      "outputs": [
        {
          "output_type": "execute_result",
          "data": {
            "text/plain": [
              "<seaborn.axisgrid.FacetGrid at 0x7fb99fe343a0>"
            ]
          },
          "metadata": {},
          "execution_count": 31
        },
        {
          "output_type": "display_data",
          "data": {
            "text/plain": [
              "<Figure size 360x360 with 1 Axes>"
            ],
            "image/png": "[encoded data removed]"
          },
          "metadata": {
            "needs_background": "light"
          }
        }
      ]
    },
    {
      "cell_type": "code",
      "source": [
        "df['rating'].skew()"
      ],
      "metadata": {
        "colab": {
          "base_uri": "https://localhost:8080/"
        },
        "id": "pjgxse79_M6f",
        "outputId": "21a60d8b-5f35-4e91-a1ea-ebf70711a712"
      },
      "execution_count": null,
      "outputs": [
        {
          "output_type": "execute_result",
          "data": {
            "text/plain": [
              "-0.6989993034105535"
            ]
          },
          "metadata": {},
          "execution_count": 32
        }
      ]
    },
    {
      "cell_type": "code",
      "source": [
        "sns.boxplot(df['rating'])"
      ],
      "metadata": {
        "colab": {
          "base_uri": "https://localhost:8080/",
          "height": 351
        },
        "id": "uN6uYPef_TEU",
        "outputId": "1bf6c004-89ef-4054-c316-1fccf9c8f2d2"
      },
      "execution_count": null,
      "outputs": [
        {
          "output_type": "stream",
          "name": "stderr",
          "text": [
            "/usr/local/lib/python3.8/dist-packages/seaborn/_decorators.py:36: FutureWarning: Pass the following variable as a keyword arg: x. From version 0.12, the only valid positional argument will be `data`, and passing other arguments without an explicit keyword will result in an error or misinterpretation.\n",
            "  warnings.warn(\n"
          ]
        },
        {
          "output_type": "execute_result",
          "data": {
            "text/plain": [
              "<matplotlib.axes._subplots.AxesSubplot at 0x7fb99b3bd9d0>"
            ]
          },
          "metadata": {},
          "execution_count": 33
        },
        {
          "output_type": "display_data",
          "data": {
            "text/plain": [
              "<Figure size 432x288 with 1 Axes>"
            ],
            "image/png": "[encoded data removed]"
          },
          "metadata": {
            "needs_background": "light"
          }
        }
      ]
    },
    {
      "cell_type": "code",
      "source": [
        "df['rating'].isnull().sum()/980"
      ],
      "metadata": {
        "colab": {
          "base_uri": "https://localhost:8080/"
        },
        "id": "DwNKRbZE_e5g",
        "outputId": "0eb10cc0-ed0e-47b5-e625-8904c6495900"
      },
      "execution_count": null,
      "outputs": [
        {
          "output_type": "execute_result",
          "data": {
            "text/plain": [
              "0.10306122448979592"
            ]
          },
          "metadata": {},
          "execution_count": 35
        }
      ]
    },
    {
      "cell_type": "code",
      "source": [
        "df.head()"
      ],
      "metadata": {
        "colab": {
          "base_uri": "https://localhost:8080/",
          "height": 426
        },
        "id": "5Xi_QzNp_otk",
        "outputId": "6e27f33c-82b4-4a6c-a4de-32a3366b9e49"
      },
      "execution_count": null,
      "outputs": [
        {
          "output_type": "execute_result",
          "data": {
            "text/plain": [
              "  brand_name                      model  price  rating  has_5g  has_nfc  \\\n",
              "0    oneplus              OnePlus 11 5G  54999    89.0    True     True   \n",
              "1    oneplus  OnePlus Nord CE 2 Lite 5G  19989    81.0    True    False   \n",
              "2    samsung      Samsung Galaxy A14 5G  16499    75.0    True    False   \n",
              "3   motorola       Motorola Moto G62 5G  14999    81.0    True    False   \n",
              "4     realme         Realme 10 Pro Plus  24999    82.0    True    False   \n",
              "\n",
              "   has_ir_blaster processor_brand  num_cores  processor_speed  \\\n",
              "0           False      snapdragon        8.0              3.2   \n",
              "1           False      snapdragon        8.0              2.2   \n",
              "2           False          exynos        8.0              2.4   \n",
              "3           False      snapdragon        8.0              2.2   \n",
              "4           False       dimensity        8.0              2.6   \n",
              "\n",
              "   battery_capacity  fast_charging_available  fast_charging  ram_capacity  \\\n",
              "0            5000.0                        1          100.0          12.0   \n",
              "1            5000.0                        1           33.0           6.0   \n",
              "2            5000.0                        1           15.0           4.0   \n",
              "3            5000.0                        1            NaN           6.0   \n",
              "4            5000.0                        1           67.0           6.0   \n",
              "\n",
              "   internal_memory  screen_size  refresh_rate    resolution  num_rear_cameras  \\\n",
              "0            256.0         6.70           120  1440 x 3216                  3   \n",
              "1            128.0         6.59           120  1080 x 2412                  3   \n",
              "2             64.0         6.60            90  1080 x 2408                  3   \n",
              "3            128.0         6.55           120  1080 x 2400                  3   \n",
              "4            128.0         6.70           120  1080 x 2412                  3   \n",
              "\n",
              "   num_front_cameras       os  primary_camera_rear  primary_camera_front  \\\n",
              "0                1.0  android                 50.0                  16.0   \n",
              "1                1.0  android                 64.0                  16.0   \n",
              "2                1.0  android                 50.0                  13.0   \n",
              "3                1.0  android                 50.0                  16.0   \n",
              "4                1.0  android                108.0                  16.0   \n",
              "\n",
              "   extended_memory_available  extended_upto  \n",
              "0                          0            NaN  \n",
              "1                          1         1024.0  \n",
              "2                          1         1024.0  \n",
              "3                          1         1024.0  \n",
              "4                          0            NaN  "
            ],
            "text/html": [
              "\n",
              "  <div id=\"df-aa0ffa92-1edc-4e75-83f1-e364d614c4bc\">\n",
              "    <div class=\"colab-df-container\">\n",
              "      <div>\n",
              "<style scoped>\n",
              "    .dataframe tbody tr th:only-of-type {\n",
              "        vertical-align: middle;\n",
              "    }\n",
              "\n",
              "    .dataframe tbody tr th {\n",
              "        vertical-align: top;\n",
              "    }\n",
              "\n",
              "    .dataframe thead th {\n",
              "        text-align: right;\n",
              "    }\n",
              "</style>\n",
              "<table border=\"1\" class=\"dataframe\">\n",
              "  <thead>\n",
              "    <tr style=\"text-align: right;\">\n",
              "      <th></th>\n",
              "      <th>brand_name</th>\n",
              "      <th>model</th>\n",
              "      <th>price</th>\n",
              "      <th>rating</th>\n",
              "      <th>has_5g</th>\n",
              "      <th>has_nfc</th>\n",
              "      <th>has_ir_blaster</th>\n",
              "      <th>processor_brand</th>\n",
              "      <th>num_cores</th>\n",
              "      <th>processor_speed</th>\n",
              "      <th>battery_capacity</th>\n",
              "      <th>fast_charging_available</th>\n",
              "      <th>fast_charging</th>\n",
              "      <th>ram_capacity</th>\n",
              "      <th>internal_memory</th>\n",
              "      <th>screen_size</th>\n",
              "      <th>refresh_rate</th>\n",
              "      <th>resolution</th>\n",
              "      <th>num_rear_cameras</th>\n",
              "      <th>num_front_cameras</th>\n",
              "      <th>os</th>\n",
              "      <th>primary_camera_rear</th>\n",
              "      <th>primary_camera_front</th>\n",
              "      <th>extended_memory_available</th>\n",
              "      <th>extended_upto</th>\n",
              "    </tr>\n",
              "  </thead>\n",
              "  <tbody>\n",
              "    <tr>\n",
              "      <th>0</th>\n",
              "      <td>oneplus</td>\n",
              "      <td>OnePlus 11 5G</td>\n",
              "      <td>54999</td>\n",
              "      <td>89.0</td>\n",
              "      <td>True</td>\n",
              "      <td>True</td>\n",
              "      <td>False</td>\n",
              "      <td>snapdragon</td>\n",
              "      <td>8.0</td>\n",
              "      <td>3.2</td>\n",
              "      <td>5000.0</td>\n",
              "      <td>1</td>\n",
              "      <td>100.0</td>\n",
              "      <td>12.0</td>\n",
              "      <td>256.0</td>\n",
              "      <td>6.70</td>\n",
              "      <td>120</td>\n",
              "      <td>1440 x 3216</td>\n",
              "      <td>3</td>\n",
              "      <td>1.0</td>\n",
              "      <td>android</td>\n",
              "      <td>50.0</td>\n",
              "      <td>16.0</td>\n",
              "      <td>0</td>\n",
              "      <td>NaN</td>\n",
              "    </tr>\n",
              "    <tr>\n",
              "      <th>1</th>\n",
              "      <td>oneplus</td>\n",
              "      <td>OnePlus Nord CE 2 Lite 5G</td>\n",
              "      <td>19989</td>\n",
              "      <td>81.0</td>\n",
              "      <td>True</td>\n",
              "      <td>False</td>\n",
              "      <td>False</td>\n",
              "      <td>snapdragon</td>\n",
              "      <td>8.0</td>\n",
              "      <td>2.2</td>\n",
              "      <td>5000.0</td>\n",
              "      <td>1</td>\n",
              "      <td>33.0</td>\n",
              "      <td>6.0</td>\n",
              "      <td>128.0</td>\n",
              "      <td>6.59</td>\n",
              "      <td>120</td>\n",
              "      <td>1080 x 2412</td>\n",
              "      <td>3</td>\n",
              "      <td>1.0</td>\n",
              "      <td>android</td>\n",
              "      <td>64.0</td>\n",
              "      <td>16.0</td>\n",
              "      <td>1</td>\n",
              "      <td>1024.0</td>\n",
              "    </tr>\n",
              "    <tr>\n",
              "      <th>2</th>\n",
              "      <td>samsung</td>\n",
              "      <td>Samsung Galaxy A14 5G</td>\n",
              "      <td>16499</td>\n",
              "      <td>75.0</td>\n",
              "      <td>True</td>\n",
              "      <td>False</td>\n",
              "      <td>False</td>\n",
              "      <td>exynos</td>\n",
              "      <td>8.0</td>\n",
              "      <td>2.4</td>\n",
              "      <td>5000.0</td>\n",
              "      <td>1</td>\n",
              "      <td>15.0</td>\n",
              "      <td>4.0</td>\n",
              "      <td>64.0</td>\n",
              "      <td>6.60</td>\n",
              "      <td>90</td>\n",
              "      <td>1080 x 2408</td>\n",
              "      <td>3</td>\n",
              "      <td>1.0</td>\n",
              "      <td>android</td>\n",
              "      <td>50.0</td>\n",
              "      <td>13.0</td>\n",
              "      <td>1</td>\n",
              "      <td>1024.0</td>\n",
              "    </tr>\n",
              "    <tr>\n",
              "      <th>3</th>\n",
              "      <td>motorola</td>\n",
              "      <td>Motorola Moto G62 5G</td>\n",
              "      <td>14999</td>\n",
              "      <td>81.0</td>\n",
              "      <td>True</td>\n",
              "      <td>False</td>\n",
              "      <td>False</td>\n",
              "      <td>snapdragon</td>\n",
              "      <td>8.0</td>\n",
              "      <td>2.2</td>\n",
              "      <td>5000.0</td>\n",
              "      <td>1</td>\n",
              "      <td>NaN</td>\n",
              "      <td>6.0</td>\n",
              "      <td>128.0</td>\n",
              "      <td>6.55</td>\n",
              "      <td>120</td>\n",
              "      <td>1080 x 2400</td>\n",
              "      <td>3</td>\n",
              "      <td>1.0</td>\n",
              "      <td>android</td>\n",
              "      <td>50.0</td>\n",
              "      <td>16.0</td>\n",
              "      <td>1</td>\n",
              "      <td>1024.0</td>\n",
              "    </tr>\n",
              "    <tr>\n",
              "      <th>4</th>\n",
              "      <td>realme</td>\n",
              "      <td>Realme 10 Pro Plus</td>\n",
              "      <td>24999</td>\n",
              "      <td>82.0</td>\n",
              "      <td>True</td>\n",
              "      <td>False</td>\n",
              "      <td>False</td>\n",
              "      <td>dimensity</td>\n",
              "      <td>8.0</td>\n",
              "      <td>2.6</td>\n",
              "      <td>5000.0</td>\n",
              "      <td>1</td>\n",
              "      <td>67.0</td>\n",
              "      <td>6.0</td>\n",
              "      <td>128.0</td>\n",
              "      <td>6.70</td>\n",
              "      <td>120</td>\n",
              "      <td>1080 x 2412</td>\n",
              "      <td>3</td>\n",
              "      <td>1.0</td>\n",
              "      <td>android</td>\n",
              "      <td>108.0</td>\n",
              "      <td>16.0</td>\n",
              "      <td>0</td>\n",
              "      <td>NaN</td>\n",
              "    </tr>\n",
              "  </tbody>\n",
              "</table>\n",
              "</div>\n",
              "      <button class=\"colab-df-convert\" onclick=\"convertToInteractive('df-aa0ffa92-1edc-4e75-83f1-e364d614c4bc')\"\n",
              "              title=\"Convert this dataframe to an interactive table.\"\n",
              "              style=\"display:none;\">\n",
              "        \n",
              "  <svg xmlns=\"http://www.w3.org/2000/svg\" height=\"24px\"viewBox=\"0 0 24 24\"\n",
              "       width=\"24px\">\n",
              "    <path d=\"M0 0h24v24H0V0z\" fill=\"none\"/>\n",
              "    <path d=\"M18.56 5.44l.94 2.06.94-2.06 2.06-.94-2.06-.94-.94-2.06-.94 2.06-2.06.94zm-11 1L8.5 8.5l.94-2.06 2.06-.94-2.06-.94L8.5 2.5l-.94 2.06-2.06.94zm10 10l.94 2.06.94-2.06 2.06-.94-2.06-.94-.94-2.06-.94 2.06-2.06.94z\"/><path d=\"M17.41 7.96l-1.37-1.37c-.4-.4-.92-.59-1.43-.59-.52 0-1.04.2-1.43.59L10.3 9.45l-7.72 7.72c-.78.78-.78 2.05 0 2.83L4 21.41c.39.39.9.59 1.41.59.51 0 1.02-.2 1.41-.59l7.78-7.78 2.81-2.81c.8-.78.8-2.07 0-2.86zM5.41 20L4 18.59l7.72-7.72 1.47 1.35L5.41 20z\"/>\n",
              "  </svg>\n",
              "      </button>\n",
              "      \n",
              "  <style>\n",
              "    .colab-df-container {\n",
              "      display:flex;\n",
              "      flex-wrap:wrap;\n",
              "      gap: 12px;\n",
              "    }\n",
              "\n",
              "    .colab-df-convert {\n",
              "      background-color: #E8F0FE;\n",
              "      border: none;\n",
              "      border-radius: 50%;\n",
              "      cursor: pointer;\n",
              "      display: none;\n",
              "      fill: #1967D2;\n",
              "      height: 32px;\n",
              "      padding: 0 0 0 0;\n",
              "      width: 32px;\n",
              "    }\n",
              "\n",
              "    .colab-df-convert:hover {\n",
              "      background-color: #E2EBFA;\n",
              "      box-shadow: 0px 1px 2px rgba(60, 64, 67, 0.3), 0px 1px 3px 1px rgba(60, 64, 67, 0.15);\n",
              "      fill: #174EA6;\n",
              "    }\n",
              "\n",
              "    [theme=dark] .colab-df-convert {\n",
              "      background-color: #3B4455;\n",
              "      fill: #D2E3FC;\n",
              "    }\n",
              "\n",
              "    [theme=dark] .colab-df-convert:hover {\n",
              "      background-color: #434B5C;\n",
              "      box-shadow: 0px 1px 3px 1px rgba(0, 0, 0, 0.15);\n",
              "      filter: drop-shadow(0px 1px 2px rgba(0, 0, 0, 0.3));\n",
              "      fill: #FFFFFF;\n",
              "    }\n",
              "  </style>\n",
              "\n",
              "      <script>\n",
              "        const buttonEl =\n",
              "          document.querySelector('#df-aa0ffa92-1edc-4e75-83f1-e364d614c4bc button.colab-df-convert');\n",
              "        buttonEl.style.display =\n",
              "          google.colab.kernel.accessAllowed ? 'block' : 'none';\n",
              "\n",
              "        async function convertToInteractive(key) {\n",
              "          const element = document.querySelector('#df-aa0ffa92-1edc-4e75-83f1-e364d614c4bc');\n",
              "          const dataTable =\n",
              "            await google.colab.kernel.invokeFunction('convertToInteractive',\n",
              "                                                     [key], {});\n",
              "          if (!dataTable) return;\n",
              "\n",
              "          const docLinkHtml = 'Like what you see? Visit the ' +\n",
              "            '<a target=\"_blank\" href=https://colab.research.google.com/notebooks/data_table.ipynb>data table notebook</a>'\n",
              "            + ' to learn more about interactive tables.';\n",
              "          element.innerHTML = '';\n",
              "          dataTable['output_type'] = 'display_data';\n",
              "          await google.colab.output.renderOutput(dataTable, element);\n",
              "          const docLink = document.createElement('div');\n",
              "          docLink.innerHTML = docLinkHtml;\n",
              "          element.appendChild(docLink);\n",
              "        }\n",
              "      </script>\n",
              "    </div>\n",
              "  </div>\n",
              "  "
            ]
          },
          "metadata": {},
          "execution_count": 36
        }
      ]
    },
    {
      "cell_type": "code",
      "source": [
        "# has_5g\n",
        "df['has_5g'].value_counts().plot(kind='pie',autopct='%0.1f%%')"
      ],
      "metadata": {
        "colab": {
          "base_uri": "https://localhost:8080/",
          "height": 265
        },
        "id": "A5OTBzMk__5b",
        "outputId": "81a7a933-3ba4-4559-8079-46d16635ceca"
      },
      "execution_count": null,
      "outputs": [
        {
          "output_type": "execute_result",
          "data": {
            "text/plain": [
              "<matplotlib.axes._subplots.AxesSubplot at 0x7fb99b360220>"
            ]
          },
          "metadata": {},
          "execution_count": 38
        },
        {
          "output_type": "display_data",
          "data": {
            "text/plain": [
              "<Figure size 432x288 with 1 Axes>"
            ],
            "image/png": "[encoded data removed]"
          },
          "metadata": {}
        }
      ]
    },
    {
      "cell_type": "code",
      "source": [
        "# has_nfc\n",
        "df['has_nfc'].value_counts().plot(kind='pie',autopct='%0.1f%%')"
      ],
      "metadata": {
        "colab": {
          "base_uri": "https://localhost:8080/",
          "height": 265
        },
        "id": "4euRF3mfATTT",
        "outputId": "f9c511f4-15f7-4be1-8db1-73b7becadc76"
      },
      "execution_count": null,
      "outputs": [
        {
          "output_type": "execute_result",
          "data": {
            "text/plain": [
              "<matplotlib.axes._subplots.AxesSubplot at 0x7fb99b27a580>"
            ]
          },
          "metadata": {},
          "execution_count": 39
        },
        {
          "output_type": "display_data",
          "data": {
            "text/plain": [
              "<Figure size 432x288 with 1 Axes>"
            ],
            "image/png": "[encoded data removed]"
          },
          "metadata": {}
        }
      ]
    },
    {
      "cell_type": "code",
      "source": [
        "# has_ir_blaster\n",
        "df['has_ir_blaster'].value_counts().plot(kind='pie',autopct='%0.1f%%')"
      ],
      "metadata": {
        "colab": {
          "base_uri": "https://localhost:8080/",
          "height": 265
        },
        "id": "qckByl_AAgxI",
        "outputId": "e5fb2e3a-57b9-4dcc-8749-a2c27f979d54"
      },
      "execution_count": null,
      "outputs": [
        {
          "output_type": "execute_result",
          "data": {
            "text/plain": [
              "<matplotlib.axes._subplots.AxesSubplot at 0x7fb99b231730>"
            ]
          },
          "metadata": {},
          "execution_count": 40
        },
        {
          "output_type": "display_data",
          "data": {
            "text/plain": [
              "<Figure size 432x288 with 1 Axes>"
            ],
            "image/png": "[encoded data removed]"
          },
          "metadata": {}
        }
      ]
    },
    {
      "cell_type": "code",
      "source": [
        "df[df['has_ir_blaster'] == True]['brand_name'].value_counts()"
      ],
      "metadata": {
        "colab": {
          "base_uri": "https://localhost:8080/"
        },
        "id": "V4BPsjJ_AsgJ",
        "outputId": "a12426b8-70b3-4de3-aaec-dba41e098fcb"
      },
      "execution_count": null,
      "outputs": [
        {
          "output_type": "execute_result",
          "data": {
            "text/plain": [
              "xiaomi     109\n",
              "poco        30\n",
              "iqoo         6\n",
              "huawei       6\n",
              "vivo         4\n",
              "redmi        2\n",
              "honor        1\n",
              "samsung      1\n",
              "Name: brand_name, dtype: int64"
            ]
          },
          "metadata": {},
          "execution_count": 41
        }
      ]
    },
    {
      "cell_type": "code",
      "source": [
        "df['processor_brand'].value_counts().plot(kind='pie',autopct=\"%0.1f%%\")"
      ],
      "metadata": {
        "colab": {
          "base_uri": "https://localhost:8080/",
          "height": 265
        },
        "id": "sbytOYUyA1JP",
        "outputId": "1579f559-e0ca-439b-d707-0d71be595c80"
      },
      "execution_count": null,
      "outputs": [
        {
          "output_type": "execute_result",
          "data": {
            "text/plain": [
              "<matplotlib.axes._subplots.AxesSubplot at 0x7fb99b209280>"
            ]
          },
          "metadata": {},
          "execution_count": 43
        },
        {
          "output_type": "display_data",
          "data": {
            "text/plain": [
              "<Figure size 432x288 with 1 Axes>"
            ],
            "image/png": "[encoded data removed]"
          },
          "metadata": {}
        }
      ]
    },
    {
      "cell_type": "code",
      "source": [
        "df['num_cores'].value_counts().plot(kind='pie',autopct=\"%0.1f%%\")"
      ],
      "metadata": {
        "colab": {
          "base_uri": "https://localhost:8080/",
          "height": 265
        },
        "id": "_bcHmCVnBREs",
        "outputId": "2fcede69-3d27-4b77-cc18-df5c9b8f96f7"
      },
      "execution_count": null,
      "outputs": [
        {
          "output_type": "execute_result",
          "data": {
            "text/plain": [
              "<matplotlib.axes._subplots.AxesSubplot at 0x7fb9996791c0>"
            ]
          },
          "metadata": {},
          "execution_count": 44
        },
        {
          "output_type": "display_data",
          "data": {
            "text/plain": [
              "<Figure size 432x288 with 1 Axes>"
            ],
            "image/png": "[encoded data removed]"
          },
          "metadata": {}
        }
      ]
    },
    {
      "cell_type": "code",
      "source": [
        "\n",
        "df['fast_charging_available'].value_counts().plot(kind='pie',autopct=\"%0.1f%%\")"
      ],
      "metadata": {
        "colab": {
          "base_uri": "https://localhost:8080/",
          "height": 265
        },
        "id": "l3tZJMGQBtDy",
        "outputId": "67418bc4-7b0a-45d5-fbf9-c615e33ae757"
      },
      "execution_count": null,
      "outputs": [
        {
          "output_type": "execute_result",
          "data": {
            "text/plain": [
              "<matplotlib.axes._subplots.AxesSubplot at 0x7fb999643d90>"
            ]
          },
          "metadata": {},
          "execution_count": 45
        },
        {
          "output_type": "display_data",
          "data": {
            "text/plain": [
              "<Figure size 432x288 with 1 Axes>"
            ],
            "image/png": "[encoded data removed]"
          },
          "metadata": {}
        }
      ]
    },
    {
      "cell_type": "code",
      "source": [
        "\n",
        "df['ram_capacity'].value_counts().plot(kind='pie',autopct=\"%0.1f%%\")"
      ],
      "metadata": {
        "colab": {
          "base_uri": "https://localhost:8080/",
          "height": 265
        },
        "id": "s-ZaJXlXCLn3",
        "outputId": "1bfac754-2983-4ad4-b743-88362f0c971a"
      },
      "execution_count": null,
      "outputs": [
        {
          "output_type": "execute_result",
          "data": {
            "text/plain": [
              "<matplotlib.axes._subplots.AxesSubplot at 0x7fb9996f5580>"
            ]
          },
          "metadata": {},
          "execution_count": 46
        },
        {
          "output_type": "display_data",
          "data": {
            "text/plain": [
              "<Figure size 432x288 with 1 Axes>"
            ],
            "image/png": "[encoded data removed]"
          },
          "metadata": {}
        }
      ]
    },
    {
      "cell_type": "code",
      "source": [
        "df['internal_memory'].value_counts().plot(kind='pie',autopct=\"%0.1f%%\")"
      ],
      "metadata": {
        "colab": {
          "base_uri": "https://localhost:8080/",
          "height": 265
        },
        "id": "l5oo1j6aCVN4",
        "outputId": "1504a008-ec7a-4a08-c6e2-24b9cef8aeb0"
      },
      "execution_count": null,
      "outputs": [
        {
          "output_type": "execute_result",
          "data": {
            "text/plain": [
              "<matplotlib.axes._subplots.AxesSubplot at 0x7fb9995f7a30>"
            ]
          },
          "metadata": {},
          "execution_count": 47
        },
        {
          "output_type": "display_data",
          "data": {
            "text/plain": [
              "<Figure size 432x288 with 1 Axes>"
            ],
            "image/png": "[encoded data removed]"
          },
          "metadata": {}
        }
      ]
    },
    {
      "cell_type": "code",
      "source": [
        "df['refresh_rate'].value_counts().plot(kind='pie',autopct=\"%0.1f%%\")"
      ],
      "metadata": {
        "colab": {
          "base_uri": "https://localhost:8080/",
          "height": 265
        },
        "id": "m0uiXuMyCeWH",
        "outputId": "3545e64f-4614-45ad-d817-93693caf74ce"
      },
      "execution_count": null,
      "outputs": [
        {
          "output_type": "execute_result",
          "data": {
            "text/plain": [
              "<matplotlib.axes._subplots.AxesSubplot at 0x7fb999557070>"
            ]
          },
          "metadata": {},
          "execution_count": 48
        },
        {
          "output_type": "display_data",
          "data": {
            "text/plain": [
              "<Figure size 432x288 with 1 Axes>"
            ],
            "image/png": "[encoded data removed]"
          },
          "metadata": {}
        }
      ]
    },
    {
      "cell_type": "code",
      "source": [
        "df['refresh_rate'].value_counts()"
      ],
      "metadata": {
        "colab": {
          "base_uri": "https://localhost:8080/"
        },
        "id": "IAg7EehLCoY9",
        "outputId": "8637ab33-739a-4ae4-fb41-76f4e057fc52"
      },
      "execution_count": null,
      "outputs": [
        {
          "output_type": "execute_result",
          "data": {
            "text/plain": [
              "60     368\n",
              "120    344\n",
              "90     219\n",
              "144     39\n",
              "165      9\n",
              "240      1\n",
              "Name: refresh_rate, dtype: int64"
            ]
          },
          "metadata": {},
          "execution_count": 49
        }
      ]
    },
    {
      "cell_type": "code",
      "source": [
        "(df['num_rear_cameras'] + df['num_front_cameras']).value_counts().plot(kind='pie',autopct=\"%0.1f%%\")"
      ],
      "metadata": {
        "colab": {
          "base_uri": "https://localhost:8080/",
          "height": 265
        },
        "id": "1CU1derPCxlO",
        "outputId": "73c27b5d-c4b5-4ca1-8b9f-f600473b6470"
      },
      "execution_count": null,
      "outputs": [
        {
          "output_type": "execute_result",
          "data": {
            "text/plain": [
              "<matplotlib.axes._subplots.AxesSubplot at 0x7fb9994ba3d0>"
            ]
          },
          "metadata": {},
          "execution_count": 50
        },
        {
          "output_type": "display_data",
          "data": {
            "text/plain": [
              "<Figure size 432x288 with 1 Axes>"
            ],
            "image/png": "[encoded data removed]"
          },
          "metadata": {}
        }
      ]
    },
    {
      "cell_type": "code",
      "source": [
        "df['os'].value_counts().plot(kind='pie',autopct='%0.1f%%')"
      ],
      "metadata": {
        "colab": {
          "base_uri": "https://localhost:8080/",
          "height": 265
        },
        "id": "BoZ1cL0ZDNIK",
        "outputId": "ba46b56c-8aa4-4e54-f260-1baa8896d89b"
      },
      "execution_count": null,
      "outputs": [
        {
          "output_type": "execute_result",
          "data": {
            "text/plain": [
              "<matplotlib.axes._subplots.AxesSubplot at 0x7fb9994ee5b0>"
            ]
          },
          "metadata": {},
          "execution_count": 51
        },
        {
          "output_type": "display_data",
          "data": {
            "text/plain": [
              "<Figure size 432x288 with 1 Axes>"
            ],
            "image/png": "[encoded data removed]"
          },
          "metadata": {}
        }
      ]
    },
    {
      "cell_type": "code",
      "source": [
        "# extended_memory_available\n",
        "df['extended_memory_available'].value_counts().plot(kind='pie',autopct='%0.1f%%')"
      ],
      "metadata": {
        "colab": {
          "base_uri": "https://localhost:8080/",
          "height": 265
        },
        "id": "TyiZZkBiDb6T",
        "outputId": "f68268c1-f276-44c3-dc5c-425796812856"
      },
      "execution_count": null,
      "outputs": [
        {
          "output_type": "execute_result",
          "data": {
            "text/plain": [
              "<matplotlib.axes._subplots.AxesSubplot at 0x7fb999456b50>"
            ]
          },
          "metadata": {},
          "execution_count": 52
        },
        {
          "output_type": "display_data",
          "data": {
            "text/plain": [
              "<Figure size 432x288 with 1 Axes>"
            ],
            "image/png": "[encoded data removed]"
          },
          "metadata": {}
        }
      ]
    },
    {
      "cell_type": "code",
      "source": [
        "df['extended_upto'].value_counts().plot(kind='pie',autopct='%0.1f%%')"
      ],
      "metadata": {
        "colab": {
          "base_uri": "https://localhost:8080/",
          "height": 265
        },
        "id": "RW5huTq-Dtmn",
        "outputId": "5322c7b3-fa5a-45d3-cc10-b72be2cddd10"
      },
      "execution_count": null,
      "outputs": [
        {
          "output_type": "execute_result",
          "data": {
            "text/plain": [
              "<matplotlib.axes._subplots.AxesSubplot at 0x7fb99941c940>"
            ]
          },
          "metadata": {},
          "execution_count": 53
        },
        {
          "output_type": "display_data",
          "data": {
            "text/plain": [
              "<Figure size 432x288 with 1 Axes>"
            ],
            "image/png": "[encoded data removed]"
          },
          "metadata": {}
        }
      ]
    },
    {
      "cell_type": "code",
      "source": [
        "def plot_graphs(column_name):\n",
        "\n",
        "  sns.displot(kind='hist',kde=True,data=df,x=column_name,label=column_name)\n",
        "  sns.catplot(kind='box',data=df,x=column_name)"
      ],
      "metadata": {
        "id": "3csKgKTMD3dX"
      },
      "execution_count": null,
      "outputs": []
    },
    {
      "cell_type": "code",
      "source": [
        "num_columns = df.select_dtypes(include=['float64','int64']).iloc[:,[3,4,6,9,13,14,16]].columns"
      ],
      "metadata": {
        "id": "tADZwZT0Ed_j"
      },
      "execution_count": null,
      "outputs": []
    },
    {
      "cell_type": "code",
      "source": [
        "for col in num_columns:\n",
        "  plot_graphs(col)"
      ],
      "metadata": {
        "colab": {
          "base_uri": "https://localhost:8080/",
          "height": 1000
        },
        "id": "DENKutEeEp-C",
        "outputId": "d6d19d30-f338-4dac-b858-2ab63b56a909"
      },
      "execution_count": null,
      "outputs": [
        {
          "output_type": "display_data",
          "data": {
            "text/plain": [
              "<Figure size 360x360 with 1 Axes>"
            ],
            "image/png": "[encoded data removed]"
          },
          "metadata": {
            "needs_background": "light"
          }
        },
        {
          "output_type": "display_data",
          "data": {
            "text/plain": [
              "<Figure size 360x360 with 1 Axes>"
            ],
            "image/png": "[encoded data removed]"
          },
          "metadata": {
            "needs_background": "light"
          }
        },
        {
          "output_type": "display_data",
          "data": {
            "text/plain": [
              "<Figure size 360x360 with 1 Axes>"
            ],
            "image/png": "[encoded data removed]"
          },
          "metadata": {
            "needs_background": "light"
          }
        },
        {
          "output_type": "display_data",
          "data": {
            "text/plain": [
              "<Figure size 360x360 with 1 Axes>"
            ],
            "image/png": "[encoded data removed]"
          },
          "metadata": {
            "needs_background": "light"
          }
        },
        {
          "output_type": "display_data",
          "data": {
            "text/plain": [
              "<Figure size 360x360 with 1 Axes>"
            ],
            "image/png": "[encoded data removed]"
          },
          "metadata": {
            "needs_background": "light"
          }
        },
        {
          "output_type": "display_data",
          "data": {
            "text/plain": [
              "<Figure size 360x360 with 1 Axes>"
            ],
            "image/png": "[encoded data removed]"
          },
          "metadata": {
            "needs_background": "light"
          }
        },
        {
          "output_type": "display_data",
          "data": {
            "text/plain": [
              "<Figure size 360x360 with 1 Axes>"
            ],
            "image/png": "[encoded data removed]"
          },
          "metadata": {
            "needs_background": "light"
          }
        },
        {
          "output_type": "display_data",
          "data": {
            "text/plain": [
              "<Figure size 360x360 with 1 Axes>"
            ],
            "image/png": "[encoded data removed]"
          },
          "metadata": {
            "needs_background": "light"
          }
        },
        {
          "output_type": "display_data",
          "data": {
            "text/plain": [
              "<Figure size 360x360 with 1 Axes>"
            ],
            "image/png": "[encoded data removed]"
          },
          "metadata": {
            "needs_background": "light"
          }
        },
        {
          "output_type": "display_data",
          "data": {
            "text/plain": [
              "<Figure size 360x360 with 1 Axes>"
            ],
            "image/png": "[encoded data removed]"
          },
          "metadata": {
            "needs_background": "light"
          }
        },
        {
          "output_type": "display_data",
          "data": {
            "text/plain": [
              "<Figure size 360x360 with 1 Axes>"
            ],
            "image/png": "[encoded data removed]"
          },
          "metadata": {
            "needs_background": "light"
          }
        },
        {
          "output_type": "display_data",
          "data": {
            "text/plain": [
              "<Figure size 360x360 with 1 Axes>"
            ],
            "image/png": "[encoded data removed]"
          },
          "metadata": {
            "needs_background": "light"
          }
        },
        {
          "output_type": "display_data",
          "data": {
            "text/plain": [
              "<Figure size 360x360 with 1 Axes>"
            ],
            "image/png": "[encoded data removed]"
          },
          "metadata": {
            "needs_background": "light"
          }
        },
        {
          "output_type": "display_data",
          "data": {
            "text/plain": [
              "<Figure size 360x360 with 1 Axes>"
            ],
            "image/png": "[encoded data removed]"
          },
          "metadata": {
            "needs_background": "light"
          }
        }
      ]
    },
    {
      "cell_type": "code",
      "source": [
        "df.head()"
      ],
      "metadata": {
        "colab": {
          "base_uri": "https://localhost:8080/",
          "height": 426
        },
        "id": "hsymKKPgFUrr",
        "outputId": "cafd6fc0-ee69-4ade-ac8f-83846b4ddc66"
      },
      "execution_count": null,
      "outputs": [
        {
          "output_type": "execute_result",
          "data": {
            "text/plain": [
              "  brand_name                      model  price  rating  has_5g  has_nfc  \\\n",
              "0    oneplus              OnePlus 11 5G  54999    89.0    True     True   \n",
              "1    oneplus  OnePlus Nord CE 2 Lite 5G  19989    81.0    True    False   \n",
              "2    samsung      Samsung Galaxy A14 5G  16499    75.0    True    False   \n",
              "3   motorola       Motorola Moto G62 5G  14999    81.0    True    False   \n",
              "4     realme         Realme 10 Pro Plus  24999    82.0    True    False   \n",
              "\n",
              "   has_ir_blaster processor_brand  num_cores  processor_speed  \\\n",
              "0           False      snapdragon        8.0              3.2   \n",
              "1           False      snapdragon        8.0              2.2   \n",
              "2           False          exynos        8.0              2.4   \n",
              "3           False      snapdragon        8.0              2.2   \n",
              "4           False       dimensity        8.0              2.6   \n",
              "\n",
              "   battery_capacity  fast_charging_available  fast_charging  ram_capacity  \\\n",
              "0            5000.0                        1          100.0          12.0   \n",
              "1            5000.0                        1           33.0           6.0   \n",
              "2            5000.0                        1           15.0           4.0   \n",
              "3            5000.0                        1            NaN           6.0   \n",
              "4            5000.0                        1           67.0           6.0   \n",
              "\n",
              "   internal_memory  screen_size  refresh_rate    resolution  num_rear_cameras  \\\n",
              "0            256.0         6.70           120  1440 x 3216                  3   \n",
              "1            128.0         6.59           120  1080 x 2412                  3   \n",
              "2             64.0         6.60            90  1080 x 2408                  3   \n",
              "3            128.0         6.55           120  1080 x 2400                  3   \n",
              "4            128.0         6.70           120  1080 x 2412                  3   \n",
              "\n",
              "   num_front_cameras       os  primary_camera_rear  primary_camera_front  \\\n",
              "0                1.0  android                 50.0                  16.0   \n",
              "1                1.0  android                 64.0                  16.0   \n",
              "2                1.0  android                 50.0                  13.0   \n",
              "3                1.0  android                 50.0                  16.0   \n",
              "4                1.0  android                108.0                  16.0   \n",
              "\n",
              "   extended_memory_available  extended_upto  \n",
              "0                          0            NaN  \n",
              "1                          1         1024.0  \n",
              "2                          1         1024.0  \n",
              "3                          1         1024.0  \n",
              "4                          0            NaN  "
            ],
            "text/html": [
              "\n",
              "  <div id=\"df-50700335-384f-4ed7-bd78-ae1fd0c10104\">\n",
              "    <div class=\"colab-df-container\">\n",
              "      <div>\n",
              "<style scoped>\n",
              "    .dataframe tbody tr th:only-of-type {\n",
              "        vertical-align: middle;\n",
              "    }\n",
              "\n",
              "    .dataframe tbody tr th {\n",
              "        vertical-align: top;\n",
              "    }\n",
              "\n",
              "    .dataframe thead th {\n",
              "        text-align: right;\n",
              "    }\n",
              "</style>\n",
              "<table border=\"1\" class=\"dataframe\">\n",
              "  <thead>\n",
              "    <tr style=\"text-align: right;\">\n",
              "      <th></th>\n",
              "      <th>brand_name</th>\n",
              "      <th>model</th>\n",
              "      <th>price</th>\n",
              "      <th>rating</th>\n",
              "      <th>has_5g</th>\n",
              "      <th>has_nfc</th>\n",
              "      <th>has_ir_blaster</th>\n",
              "      <th>processor_brand</th>\n",
              "      <th>num_cores</th>\n",
              "      <th>processor_speed</th>\n",
              "      <th>battery_capacity</th>\n",
              "      <th>fast_charging_available</th>\n",
              "      <th>fast_charging</th>\n",
              "      <th>ram_capacity</th>\n",
              "      <th>internal_memory</th>\n",
              "      <th>screen_size</th>\n",
              "      <th>refresh_rate</th>\n",
              "      <th>resolution</th>\n",
              "      <th>num_rear_cameras</th>\n",
              "      <th>num_front_cameras</th>\n",
              "      <th>os</th>\n",
              "      <th>primary_camera_rear</th>\n",
              "      <th>primary_camera_front</th>\n",
              "      <th>extended_memory_available</th>\n",
              "      <th>extended_upto</th>\n",
              "    </tr>\n",
              "  </thead>\n",
              "  <tbody>\n",
              "    <tr>\n",
              "      <th>0</th>\n",
              "      <td>oneplus</td>\n",
              "      <td>OnePlus 11 5G</td>\n",
              "      <td>54999</td>\n",
              "      <td>89.0</td>\n",
              "      <td>True</td>\n",
              "      <td>True</td>\n",
              "      <td>False</td>\n",
              "      <td>snapdragon</td>\n",
              "      <td>8.0</td>\n",
              "      <td>3.2</td>\n",
              "      <td>5000.0</td>\n",
              "      <td>1</td>\n",
              "      <td>100.0</td>\n",
              "      <td>12.0</td>\n",
              "      <td>256.0</td>\n",
              "      <td>6.70</td>\n",
              "      <td>120</td>\n",
              "      <td>1440 x 3216</td>\n",
              "      <td>3</td>\n",
              "      <td>1.0</td>\n",
              "      <td>android</td>\n",
              "      <td>50.0</td>\n",
              "      <td>16.0</td>\n",
              "      <td>0</td>\n",
              "      <td>NaN</td>\n",
              "    </tr>\n",
              "    <tr>\n",
              "      <th>1</th>\n",
              "      <td>oneplus</td>\n",
              "      <td>OnePlus Nord CE 2 Lite 5G</td>\n",
              "      <td>19989</td>\n",
              "      <td>81.0</td>\n",
              "      <td>True</td>\n",
              "      <td>False</td>\n",
              "      <td>False</td>\n",
              "      <td>snapdragon</td>\n",
              "      <td>8.0</td>\n",
              "      <td>2.2</td>\n",
              "      <td>5000.0</td>\n",
              "      <td>1</td>\n",
              "      <td>33.0</td>\n",
              "      <td>6.0</td>\n",
              "      <td>128.0</td>\n",
              "      <td>6.59</td>\n",
              "      <td>120</td>\n",
              "      <td>1080 x 2412</td>\n",
              "      <td>3</td>\n",
              "      <td>1.0</td>\n",
              "      <td>android</td>\n",
              "      <td>64.0</td>\n",
              "      <td>16.0</td>\n",
              "      <td>1</td>\n",
              "      <td>1024.0</td>\n",
              "    </tr>\n",
              "    <tr>\n",
              "      <th>2</th>\n",
              "      <td>samsung</td>\n",
              "      <td>Samsung Galaxy A14 5G</td>\n",
              "      <td>16499</td>\n",
              "      <td>75.0</td>\n",
              "      <td>True</td>\n",
              "      <td>False</td>\n",
              "      <td>False</td>\n",
              "      <td>exynos</td>\n",
              "      <td>8.0</td>\n",
              "      <td>2.4</td>\n",
              "      <td>5000.0</td>\n",
              "      <td>1</td>\n",
              "      <td>15.0</td>\n",
              "      <td>4.0</td>\n",
              "      <td>64.0</td>\n",
              "      <td>6.60</td>\n",
              "      <td>90</td>\n",
              "      <td>1080 x 2408</td>\n",
              "      <td>3</td>\n",
              "      <td>1.0</td>\n",
              "      <td>android</td>\n",
              "      <td>50.0</td>\n",
              "      <td>13.0</td>\n",
              "      <td>1</td>\n",
              "      <td>1024.0</td>\n",
              "    </tr>\n",
              "    <tr>\n",
              "      <th>3</th>\n",
              "      <td>motorola</td>\n",
              "      <td>Motorola Moto G62 5G</td>\n",
              "      <td>14999</td>\n",
              "      <td>81.0</td>\n",
              "      <td>True</td>\n",
              "      <td>False</td>\n",
              "      <td>False</td>\n",
              "      <td>snapdragon</td>\n",
              "      <td>8.0</td>\n",
              "      <td>2.2</td>\n",
              "      <td>5000.0</td>\n",
              "      <td>1</td>\n",
              "      <td>NaN</td>\n",
              "      <td>6.0</td>\n",
              "      <td>128.0</td>\n",
              "      <td>6.55</td>\n",
              "      <td>120</td>\n",
              "      <td>1080 x 2400</td>\n",
              "      <td>3</td>\n",
              "      <td>1.0</td>\n",
              "      <td>android</td>\n",
              "      <td>50.0</td>\n",
              "      <td>16.0</td>\n",
              "      <td>1</td>\n",
              "      <td>1024.0</td>\n",
              "    </tr>\n",
              "    <tr>\n",
              "      <th>4</th>\n",
              "      <td>realme</td>\n",
              "      <td>Realme 10 Pro Plus</td>\n",
              "      <td>24999</td>\n",
              "      <td>82.0</td>\n",
              "      <td>True</td>\n",
              "      <td>False</td>\n",
              "      <td>False</td>\n",
              "      <td>dimensity</td>\n",
              "      <td>8.0</td>\n",
              "      <td>2.6</td>\n",
              "      <td>5000.0</td>\n",
              "      <td>1</td>\n",
              "      <td>67.0</td>\n",
              "      <td>6.0</td>\n",
              "      <td>128.0</td>\n",
              "      <td>6.70</td>\n",
              "      <td>120</td>\n",
              "      <td>1080 x 2412</td>\n",
              "      <td>3</td>\n",
              "      <td>1.0</td>\n",
              "      <td>android</td>\n",
              "      <td>108.0</td>\n",
              "      <td>16.0</td>\n",
              "      <td>0</td>\n",
              "      <td>NaN</td>\n",
              "    </tr>\n",
              "  </tbody>\n",
              "</table>\n",
              "</div>\n",
              "      <button class=\"colab-df-convert\" onclick=\"convertToInteractive('df-50700335-384f-4ed7-bd78-ae1fd0c10104')\"\n",
              "              title=\"Convert this dataframe to an interactive table.\"\n",
              "              style=\"display:none;\">\n",
              "        \n",
              "  <svg xmlns=\"http://www.w3.org/2000/svg\" height=\"24px\"viewBox=\"0 0 24 24\"\n",
              "       width=\"24px\">\n",
              "    <path d=\"M0 0h24v24H0V0z\" fill=\"none\"/>\n",
              "    <path d=\"M18.56 5.44l.94 2.06.94-2.06 2.06-.94-2.06-.94-.94-2.06-.94 2.06-2.06.94zm-11 1L8.5 8.5l.94-2.06 2.06-.94-2.06-.94L8.5 2.5l-.94 2.06-2.06.94zm10 10l.94 2.06.94-2.06 2.06-.94-2.06-.94-.94-2.06-.94 2.06-2.06.94z\"/><path d=\"M17.41 7.96l-1.37-1.37c-.4-.4-.92-.59-1.43-.59-.52 0-1.04.2-1.43.59L10.3 9.45l-7.72 7.72c-.78.78-.78 2.05 0 2.83L4 21.41c.39.39.9.59 1.41.59.51 0 1.02-.2 1.41-.59l7.78-7.78 2.81-2.81c.8-.78.8-2.07 0-2.86zM5.41 20L4 18.59l7.72-7.72 1.47 1.35L5.41 20z\"/>\n",
              "  </svg>\n",
              "      </button>\n",
              "      \n",
              "  <style>\n",
              "    .colab-df-container {\n",
              "      display:flex;\n",
              "      flex-wrap:wrap;\n",
              "      gap: 12px;\n",
              "    }\n",
              "\n",
              "    .colab-df-convert {\n",
              "      background-color: #E8F0FE;\n",
              "      border: none;\n",
              "      border-radius: 50%;\n",
              "      cursor: pointer;\n",
              "      display: none;\n",
              "      fill: #1967D2;\n",
              "      height: 32px;\n",
              "      padding: 0 0 0 0;\n",
              "      width: 32px;\n",
              "    }\n",
              "\n",
              "    .colab-df-convert:hover {\n",
              "      background-color: #E2EBFA;\n",
              "      box-shadow: 0px 1px 2px rgba(60, 64, 67, 0.3), 0px 1px 3px 1px rgba(60, 64, 67, 0.15);\n",
              "      fill: #174EA6;\n",
              "    }\n",
              "\n",
              "    [theme=dark] .colab-df-convert {\n",
              "      background-color: #3B4455;\n",
              "      fill: #D2E3FC;\n",
              "    }\n",
              "\n",
              "    [theme=dark] .colab-df-convert:hover {\n",
              "      background-color: #434B5C;\n",
              "      box-shadow: 0px 1px 3px 1px rgba(0, 0, 0, 0.15);\n",
              "      filter: drop-shadow(0px 1px 2px rgba(0, 0, 0, 0.3));\n",
              "      fill: #FFFFFF;\n",
              "    }\n",
              "  </style>\n",
              "\n",
              "      <script>\n",
              "        const buttonEl =\n",
              "          document.querySelector('#df-50700335-384f-4ed7-bd78-ae1fd0c10104 button.colab-df-convert');\n",
              "        buttonEl.style.display =\n",
              "          google.colab.kernel.accessAllowed ? 'block' : 'none';\n",
              "\n",
              "        async function convertToInteractive(key) {\n",
              "          const element = document.querySelector('#df-50700335-384f-4ed7-bd78-ae1fd0c10104');\n",
              "          const dataTable =\n",
              "            await google.colab.kernel.invokeFunction('convertToInteractive',\n",
              "                                                     [key], {});\n",
              "          if (!dataTable) return;\n",
              "\n",
              "          const docLinkHtml = 'Like what you see? Visit the ' +\n",
              "            '<a target=\"_blank\" href=https://colab.research.google.com/notebooks/data_table.ipynb>data table notebook</a>'\n",
              "            + ' to learn more about interactive tables.';\n",
              "          element.innerHTML = '';\n",
              "          dataTable['output_type'] = 'display_data';\n",
              "          await google.colab.output.renderOutput(dataTable, element);\n",
              "          const docLink = document.createElement('div');\n",
              "          docLink.innerHTML = docLinkHtml;\n",
              "          element.appendChild(docLink);\n",
              "        }\n",
              "      </script>\n",
              "    </div>\n",
              "  </div>\n",
              "  "
            ]
          },
          "metadata": {},
          "execution_count": 68
        }
      ]
    },
    {
      "cell_type": "code",
      "source": [
        "plt.figure(figsize=(20,10))\n",
        "sns.barplot(data=df,x='brand_name',y='price')\n",
        "plt.xticks(rotation='vertical')"
      ],
      "metadata": {
        "colab": {
          "base_uri": "https://localhost:8080/",
          "height": 673
        },
        "id": "fW7nc6yeHpZu",
        "outputId": "229aa88e-8911-4645-a6c3-907e27fbe772"
      },
      "execution_count": null,
      "outputs": [
        {
          "output_type": "execute_result",
          "data": {
            "text/plain": [
              "(array([ 0,  1,  2,  3,  4,  5,  6,  7,  8,  9, 10, 11, 12, 13, 14, 15, 16,\n",
              "        17, 18, 19, 20, 21, 22, 23, 24, 25, 26, 27, 28, 29, 30, 31, 32, 33,\n",
              "        34, 35, 36, 37, 38, 39, 40, 41, 42, 43, 44, 45]),\n",
              " <a list of 46 Text major ticklabel objects>)"
            ]
          },
          "metadata": {},
          "execution_count": 72
        },
        {
          "output_type": "display_data",
          "data": {
            "text/plain": [
              "<Figure size 1440x720 with 1 Axes>"
            ],
            "image/png": "[encoded data removed]"
          },
          "metadata": {
            "needs_background": "light"
          }
        }
      ]
    },
    {
      "cell_type": "code",
      "source": [
        "x = df.groupby('brand_name').count()['model']"
      ],
      "metadata": {
        "id": "PG0oxSALIjrz"
      },
      "execution_count": null,
      "outputs": []
    },
    {
      "cell_type": "code",
      "source": [
        "temp_df = df[df['brand_name'].isin(x[x > 10].index)]"
      ],
      "metadata": {
        "id": "_t61nkjhJFV_"
      },
      "execution_count": null,
      "outputs": []
    },
    {
      "cell_type": "code",
      "source": [
        "plt.figure(figsize=(15,8))\n",
        "sns.barplot(data=temp_df,x='brand_name',y='price')\n",
        "plt.xticks(rotation='vertical')"
      ],
      "metadata": {
        "colab": {
          "base_uri": "https://localhost:8080/",
          "height": 568
        },
        "id": "xAEcC-21JO1k",
        "outputId": "0cba29d4-75b3-4f1d-c0aa-e96375413943"
      },
      "execution_count": null,
      "outputs": [
        {
          "output_type": "execute_result",
          "data": {
            "text/plain": [
              "(array([ 0,  1,  2,  3,  4,  5,  6,  7,  8,  9, 10, 11, 12, 13, 14, 15]),\n",
              " <a list of 16 Text major ticklabel objects>)"
            ]
          },
          "metadata": {},
          "execution_count": 84
        },
        {
          "output_type": "display_data",
          "data": {
            "text/plain": [
              "<Figure size 1080x576 with 1 Axes>"
            ],
            "image/png": "[encoded data removed]"
          },
          "metadata": {
            "needs_background": "light"
          }
        }
      ]
    },
    {
      "cell_type": "code",
      "source": [
        "df.head()"
      ],
      "metadata": {
        "colab": {
          "base_uri": "https://localhost:8080/",
          "height": 426
        },
        "id": "eq3OR3asJdzV",
        "outputId": "ca41b856-c286-40df-ae14-8d627fc9e3fd"
      },
      "execution_count": null,
      "outputs": [
        {
          "output_type": "execute_result",
          "data": {
            "text/plain": [
              "  brand_name                      model  price  rating  has_5g  has_nfc  \\\n",
              "0    oneplus              OnePlus 11 5G  54999    89.0    True     True   \n",
              "1    oneplus  OnePlus Nord CE 2 Lite 5G  19989    81.0    True    False   \n",
              "2    samsung      Samsung Galaxy A14 5G  16499    75.0    True    False   \n",
              "3   motorola       Motorola Moto G62 5G  14999    81.0    True    False   \n",
              "4     realme         Realme 10 Pro Plus  24999    82.0    True    False   \n",
              "\n",
              "   has_ir_blaster processor_brand  num_cores  processor_speed  \\\n",
              "0           False      snapdragon        8.0              3.2   \n",
              "1           False      snapdragon        8.0              2.2   \n",
              "2           False          exynos        8.0              2.4   \n",
              "3           False      snapdragon        8.0              2.2   \n",
              "4           False       dimensity        8.0              2.6   \n",
              "\n",
              "   battery_capacity  fast_charging_available  fast_charging  ram_capacity  \\\n",
              "0            5000.0                        1          100.0          12.0   \n",
              "1            5000.0                        1           33.0           6.0   \n",
              "2            5000.0                        1           15.0           4.0   \n",
              "3            5000.0                        1            NaN           6.0   \n",
              "4            5000.0                        1           67.0           6.0   \n",
              "\n",
              "   internal_memory  screen_size  refresh_rate    resolution  num_rear_cameras  \\\n",
              "0            256.0         6.70           120  1440 x 3216                  3   \n",
              "1            128.0         6.59           120  1080 x 2412                  3   \n",
              "2             64.0         6.60            90  1080 x 2408                  3   \n",
              "3            128.0         6.55           120  1080 x 2400                  3   \n",
              "4            128.0         6.70           120  1080 x 2412                  3   \n",
              "\n",
              "   num_front_cameras       os  primary_camera_rear  primary_camera_front  \\\n",
              "0                1.0  android                 50.0                  16.0   \n",
              "1                1.0  android                 64.0                  16.0   \n",
              "2                1.0  android                 50.0                  13.0   \n",
              "3                1.0  android                 50.0                  16.0   \n",
              "4                1.0  android                108.0                  16.0   \n",
              "\n",
              "   extended_memory_available  extended_upto  \n",
              "0                          0            NaN  \n",
              "1                          1         1024.0  \n",
              "2                          1         1024.0  \n",
              "3                          1         1024.0  \n",
              "4                          0            NaN  "
            ],
            "text/html": [
              "\n",
              "  <div id=\"df-4ef71919-02a5-40f7-967c-a862c991b15d\">\n",
              "    <div class=\"colab-df-container\">\n",
              "      <div>\n",
              "<style scoped>\n",
              "    .dataframe tbody tr th:only-of-type {\n",
              "        vertical-align: middle;\n",
              "    }\n",
              "\n",
              "    .dataframe tbody tr th {\n",
              "        vertical-align: top;\n",
              "    }\n",
              "\n",
              "    .dataframe thead th {\n",
              "        text-align: right;\n",
              "    }\n",
              "</style>\n",
              "<table border=\"1\" class=\"dataframe\">\n",
              "  <thead>\n",
              "    <tr style=\"text-align: right;\">\n",
              "      <th></th>\n",
              "      <th>brand_name</th>\n",
              "      <th>model</th>\n",
              "      <th>price</th>\n",
              "      <th>rating</th>\n",
              "      <th>has_5g</th>\n",
              "      <th>has_nfc</th>\n",
              "      <th>has_ir_blaster</th>\n",
              "      <th>processor_brand</th>\n",
              "      <th>num_cores</th>\n",
              "      <th>processor_speed</th>\n",
              "      <th>battery_capacity</th>\n",
              "      <th>fast_charging_available</th>\n",
              "      <th>fast_charging</th>\n",
              "      <th>ram_capacity</th>\n",
              "      <th>internal_memory</th>\n",
              "      <th>screen_size</th>\n",
              "      <th>refresh_rate</th>\n",
              "      <th>resolution</th>\n",
              "      <th>num_rear_cameras</th>\n",
              "      <th>num_front_cameras</th>\n",
              "      <th>os</th>\n",
              "      <th>primary_camera_rear</th>\n",
              "      <th>primary_camera_front</th>\n",
              "      <th>extended_memory_available</th>\n",
              "      <th>extended_upto</th>\n",
              "    </tr>\n",
              "  </thead>\n",
              "  <tbody>\n",
              "    <tr>\n",
              "      <th>0</th>\n",
              "      <td>oneplus</td>\n",
              "      <td>OnePlus 11 5G</td>\n",
              "      <td>54999</td>\n",
              "      <td>89.0</td>\n",
              "      <td>True</td>\n",
              "      <td>True</td>\n",
              "      <td>False</td>\n",
              "      <td>snapdragon</td>\n",
              "      <td>8.0</td>\n",
              "      <td>3.2</td>\n",
              "      <td>5000.0</td>\n",
              "      <td>1</td>\n",
              "      <td>100.0</td>\n",
              "      <td>12.0</td>\n",
              "      <td>256.0</td>\n",
              "      <td>6.70</td>\n",
              "      <td>120</td>\n",
              "      <td>1440 x 3216</td>\n",
              "      <td>3</td>\n",
              "      <td>1.0</td>\n",
              "      <td>android</td>\n",
              "      <td>50.0</td>\n",
              "      <td>16.0</td>\n",
              "      <td>0</td>\n",
              "      <td>NaN</td>\n",
              "    </tr>\n",
              "    <tr>\n",
              "      <th>1</th>\n",
              "      <td>oneplus</td>\n",
              "      <td>OnePlus Nord CE 2 Lite 5G</td>\n",
              "      <td>19989</td>\n",
              "      <td>81.0</td>\n",
              "      <td>True</td>\n",
              "      <td>False</td>\n",
              "      <td>False</td>\n",
              "      <td>snapdragon</td>\n",
              "      <td>8.0</td>\n",
              "      <td>2.2</td>\n",
              "      <td>5000.0</td>\n",
              "      <td>1</td>\n",
              "      <td>33.0</td>\n",
              "      <td>6.0</td>\n",
              "      <td>128.0</td>\n",
              "      <td>6.59</td>\n",
              "      <td>120</td>\n",
              "      <td>1080 x 2412</td>\n",
              "      <td>3</td>\n",
              "      <td>1.0</td>\n",
              "      <td>android</td>\n",
              "      <td>64.0</td>\n",
              "      <td>16.0</td>\n",
              "      <td>1</td>\n",
              "      <td>1024.0</td>\n",
              "    </tr>\n",
              "    <tr>\n",
              "      <th>2</th>\n",
              "      <td>samsung</td>\n",
              "      <td>Samsung Galaxy A14 5G</td>\n",
              "      <td>16499</td>\n",
              "      <td>75.0</td>\n",
              "      <td>True</td>\n",
              "      <td>False</td>\n",
              "      <td>False</td>\n",
              "      <td>exynos</td>\n",
              "      <td>8.0</td>\n",
              "      <td>2.4</td>\n",
              "      <td>5000.0</td>\n",
              "      <td>1</td>\n",
              "      <td>15.0</td>\n",
              "      <td>4.0</td>\n",
              "      <td>64.0</td>\n",
              "      <td>6.60</td>\n",
              "      <td>90</td>\n",
              "      <td>1080 x 2408</td>\n",
              "      <td>3</td>\n",
              "      <td>1.0</td>\n",
              "      <td>android</td>\n",
              "      <td>50.0</td>\n",
              "      <td>13.0</td>\n",
              "      <td>1</td>\n",
              "      <td>1024.0</td>\n",
              "    </tr>\n",
              "    <tr>\n",
              "      <th>3</th>\n",
              "      <td>motorola</td>\n",
              "      <td>Motorola Moto G62 5G</td>\n",
              "      <td>14999</td>\n",
              "      <td>81.0</td>\n",
              "      <td>True</td>\n",
              "      <td>False</td>\n",
              "      <td>False</td>\n",
              "      <td>snapdragon</td>\n",
              "      <td>8.0</td>\n",
              "      <td>2.2</td>\n",
              "      <td>5000.0</td>\n",
              "      <td>1</td>\n",
              "      <td>NaN</td>\n",
              "      <td>6.0</td>\n",
              "      <td>128.0</td>\n",
              "      <td>6.55</td>\n",
              "      <td>120</td>\n",
              "      <td>1080 x 2400</td>\n",
              "      <td>3</td>\n",
              "      <td>1.0</td>\n",
              "      <td>android</td>\n",
              "      <td>50.0</td>\n",
              "      <td>16.0</td>\n",
              "      <td>1</td>\n",
              "      <td>1024.0</td>\n",
              "    </tr>\n",
              "    <tr>\n",
              "      <th>4</th>\n",
              "      <td>realme</td>\n",
              "      <td>Realme 10 Pro Plus</td>\n",
              "      <td>24999</td>\n",
              "      <td>82.0</td>\n",
              "      <td>True</td>\n",
              "      <td>False</td>\n",
              "      <td>False</td>\n",
              "      <td>dimensity</td>\n",
              "      <td>8.0</td>\n",
              "      <td>2.6</td>\n",
              "      <td>5000.0</td>\n",
              "      <td>1</td>\n",
              "      <td>67.0</td>\n",
              "      <td>6.0</td>\n",
              "      <td>128.0</td>\n",
              "      <td>6.70</td>\n",
              "      <td>120</td>\n",
              "      <td>1080 x 2412</td>\n",
              "      <td>3</td>\n",
              "      <td>1.0</td>\n",
              "      <td>android</td>\n",
              "      <td>108.0</td>\n",
              "      <td>16.0</td>\n",
              "      <td>0</td>\n",
              "      <td>NaN</td>\n",
              "    </tr>\n",
              "  </tbody>\n",
              "</table>\n",
              "</div>\n",
              "      <button class=\"colab-df-convert\" onclick=\"convertToInteractive('df-4ef71919-02a5-40f7-967c-a862c991b15d')\"\n",
              "              title=\"Convert this dataframe to an interactive table.\"\n",
              "              style=\"display:none;\">\n",
              "        \n",
              "  <svg xmlns=\"http://www.w3.org/2000/svg\" height=\"24px\"viewBox=\"0 0 24 24\"\n",
              "       width=\"24px\">\n",
              "    <path d=\"M0 0h24v24H0V0z\" fill=\"none\"/>\n",
              "    <path d=\"M18.56 5.44l.94 2.06.94-2.06 2.06-.94-2.06-.94-.94-2.06-.94 2.06-2.06.94zm-11 1L8.5 8.5l.94-2.06 2.06-.94-2.06-.94L8.5 2.5l-.94 2.06-2.06.94zm10 10l.94 2.06.94-2.06 2.06-.94-2.06-.94-.94-2.06-.94 2.06-2.06.94z\"/><path d=\"M17.41 7.96l-1.37-1.37c-.4-.4-.92-.59-1.43-.59-.52 0-1.04.2-1.43.59L10.3 9.45l-7.72 7.72c-.78.78-.78 2.05 0 2.83L4 21.41c.39.39.9.59 1.41.59.51 0 1.02-.2 1.41-.59l7.78-7.78 2.81-2.81c.8-.78.8-2.07 0-2.86zM5.41 20L4 18.59l7.72-7.72 1.47 1.35L5.41 20z\"/>\n",
              "  </svg>\n",
              "      </button>\n",
              "      \n",
              "  <style>\n",
              "    .colab-df-container {\n",
              "      display:flex;\n",
              "      flex-wrap:wrap;\n",
              "      gap: 12px;\n",
              "    }\n",
              "\n",
              "    .colab-df-convert {\n",
              "      background-color: #E8F0FE;\n",
              "      border: none;\n",
              "      border-radius: 50%;\n",
              "      cursor: pointer;\n",
              "      display: none;\n",
              "      fill: #1967D2;\n",
              "      height: 32px;\n",
              "      padding: 0 0 0 0;\n",
              "      width: 32px;\n",
              "    }\n",
              "\n",
              "    .colab-df-convert:hover {\n",
              "      background-color: #E2EBFA;\n",
              "      box-shadow: 0px 1px 2px rgba(60, 64, 67, 0.3), 0px 1px 3px 1px rgba(60, 64, 67, 0.15);\n",
              "      fill: #174EA6;\n",
              "    }\n",
              "\n",
              "    [theme=dark] .colab-df-convert {\n",
              "      background-color: #3B4455;\n",
              "      fill: #D2E3FC;\n",
              "    }\n",
              "\n",
              "    [theme=dark] .colab-df-convert:hover {\n",
              "      background-color: #434B5C;\n",
              "      box-shadow: 0px 1px 3px 1px rgba(0, 0, 0, 0.15);\n",
              "      filter: drop-shadow(0px 1px 2px rgba(0, 0, 0, 0.3));\n",
              "      fill: #FFFFFF;\n",
              "    }\n",
              "  </style>\n",
              "\n",
              "      <script>\n",
              "        const buttonEl =\n",
              "          document.querySelector('#df-4ef71919-02a5-40f7-967c-a862c991b15d button.colab-df-convert');\n",
              "        buttonEl.style.display =\n",
              "          google.colab.kernel.accessAllowed ? 'block' : 'none';\n",
              "\n",
              "        async function convertToInteractive(key) {\n",
              "          const element = document.querySelector('#df-4ef71919-02a5-40f7-967c-a862c991b15d');\n",
              "          const dataTable =\n",
              "            await google.colab.kernel.invokeFunction('convertToInteractive',\n",
              "                                                     [key], {});\n",
              "          if (!dataTable) return;\n",
              "\n",
              "          const docLinkHtml = 'Like what you see? Visit the ' +\n",
              "            '<a target=\"_blank\" href=https://colab.research.google.com/notebooks/data_table.ipynb>data table notebook</a>'\n",
              "            + ' to learn more about interactive tables.';\n",
              "          element.innerHTML = '';\n",
              "          dataTable['output_type'] = 'display_data';\n",
              "          await google.colab.output.renderOutput(dataTable, element);\n",
              "          const docLink = document.createElement('div');\n",
              "          docLink.innerHTML = docLinkHtml;\n",
              "          element.appendChild(docLink);\n",
              "        }\n",
              "      </script>\n",
              "    </div>\n",
              "  </div>\n",
              "  "
            ]
          },
          "metadata": {},
          "execution_count": 86
        }
      ]
    },
    {
      "cell_type": "code",
      "source": [
        "sns.scatterplot(data=df,x='rating',y='price')"
      ],
      "metadata": {
        "colab": {
          "base_uri": "https://localhost:8080/",
          "height": 296
        },
        "id": "dYSTNBtrKKv_",
        "outputId": "e1209173-62de-402e-8afd-ed53a09973de"
      },
      "execution_count": null,
      "outputs": [
        {
          "output_type": "execute_result",
          "data": {
            "text/plain": [
              "<matplotlib.axes._subplots.AxesSubplot at 0x7fb9992e1580>"
            ]
          },
          "metadata": {},
          "execution_count": 87
        },
        {
          "output_type": "display_data",
          "data": {
            "text/plain": [
              "<Figure size 432x288 with 1 Axes>"
            ],
            "image/png": "[encoded data removed]"
          },
          "metadata": {
            "needs_background": "light"
          }
        }
      ]
    },
    {
      "cell_type": "code",
      "source": [
        "sns.barplot(data=temp_df,x='has_5g',y='price',estimator=np.median)"
      ],
      "metadata": {
        "colab": {
          "base_uri": "https://localhost:8080/",
          "height": 297
        },
        "id": "AUaYTayPKZAe",
        "outputId": "5809e84e-f6c4-4cf3-c7f0-4f27b4d08e0c"
      },
      "execution_count": null,
      "outputs": [
        {
          "output_type": "execute_result",
          "data": {
            "text/plain": [
              "<matplotlib.axes._subplots.AxesSubplot at 0x7fb9975fd940>"
            ]
          },
          "metadata": {},
          "execution_count": 89
        },
        {
          "output_type": "display_data",
          "data": {
            "text/plain": [
              "<Figure size 432x288 with 1 Axes>"
            ],
            "image/png": "[encoded data removed]"
          },
          "metadata": {
            "needs_background": "light"
          }
        }
      ]
    },
    {
      "cell_type": "code",
      "source": [
        "sns.pointplot(data=temp_df,x='has_nfc',y='price',estimator=np.median)"
      ],
      "metadata": {
        "colab": {
          "base_uri": "https://localhost:8080/",
          "height": 297
        },
        "id": "tGJ7PUKLK-IR",
        "outputId": "bd356129-009e-4787-83ef-8e05979aab50"
      },
      "execution_count": null,
      "outputs": [
        {
          "output_type": "execute_result",
          "data": {
            "text/plain": [
              "<matplotlib.axes._subplots.AxesSubplot at 0x7fb997785280>"
            ]
          },
          "metadata": {},
          "execution_count": 91
        },
        {
          "output_type": "display_data",
          "data": {
            "text/plain": [
              "<Figure size 432x288 with 1 Axes>"
            ],
            "image/png": "[encoded data removed]"
          },
          "metadata": {
            "needs_background": "light"
          }
        }
      ]
    },
    {
      "cell_type": "code",
      "source": [
        "sns.barplot(data=temp_df,x='has_ir_blaster',y='price',estimator=np.median)"
      ],
      "metadata": {
        "colab": {
          "base_uri": "https://localhost:8080/",
          "height": 301
        },
        "id": "q46hd2dPLMke",
        "outputId": "821992f3-7716-497e-a325-36f379f0d3e6"
      },
      "execution_count": null,
      "outputs": [
        {
          "output_type": "execute_result",
          "data": {
            "text/plain": [
              "<matplotlib.axes._subplots.AxesSubplot at 0x7fb9973c4940>"
            ]
          },
          "metadata": {},
          "execution_count": 93
        },
        {
          "output_type": "display_data",
          "data": {
            "text/plain": [
              "<Figure size 432x288 with 1 Axes>"
            ],
            "image/png": "[encoded data removed]"
          },
          "metadata": {
            "needs_background": "light"
          }
        }
      ]
    },
    {
      "cell_type": "code",
      "source": [
        "sns.barplot(data=temp_df,x='processor_brand',y='price',estimator=np.median)\n",
        "plt.xticks(rotation='vertical')"
      ],
      "metadata": {
        "colab": {
          "base_uri": "https://localhost:8080/",
          "height": 365
        },
        "id": "o7kVliACLV5Q",
        "outputId": "b0203d8a-a8ca-4601-dd4a-010f14cc61b0"
      },
      "execution_count": null,
      "outputs": [
        {
          "output_type": "execute_result",
          "data": {
            "text/plain": [
              "(array([ 0,  1,  2,  3,  4,  5,  6,  7,  8,  9, 10, 11, 12]),\n",
              " <a list of 13 Text major ticklabel objects>)"
            ]
          },
          "metadata": {},
          "execution_count": 95
        },
        {
          "output_type": "display_data",
          "data": {
            "text/plain": [
              "<Figure size 432x288 with 1 Axes>"
            ],
            "image/png": "[encoded data removed]"
          },
          "metadata": {
            "needs_background": "light"
          }
        }
      ]
    },
    {
      "cell_type": "code",
      "source": [
        "sns.barplot(data=temp_df,x='num_cores',y='price',estimator=np.median)\n",
        "plt.xticks(rotation='vertical')"
      ],
      "metadata": {
        "colab": {
          "base_uri": "https://localhost:8080/",
          "height": 302
        },
        "id": "at2fEIWVLweV",
        "outputId": "b4ee7c0a-f17c-49c3-aa11-cec319ebc242"
      },
      "execution_count": null,
      "outputs": [
        {
          "output_type": "execute_result",
          "data": {
            "text/plain": [
              "(array([0, 1, 2]), <a list of 3 Text major ticklabel objects>)"
            ]
          },
          "metadata": {},
          "execution_count": 96
        },
        {
          "output_type": "display_data",
          "data": {
            "text/plain": [
              "<Figure size 432x288 with 1 Axes>"
            ],
            "image/png": "[encoded data removed]"
          },
          "metadata": {
            "needs_background": "light"
          }
        }
      ]
    },
    {
      "cell_type": "code",
      "source": [
        "pd.crosstab(df['num_cores'],df['os'])"
      ],
      "metadata": {
        "colab": {
          "base_uri": "https://localhost:8080/",
          "height": 174
        },
        "id": "MdMGFXwQMNp8",
        "outputId": "befbabee-8155-479c-9bb9-ccddf273aef8"
      },
      "execution_count": null,
      "outputs": [
        {
          "output_type": "execute_result",
          "data": {
            "text/plain": [
              "os         android  ios  other\n",
              "num_cores                     \n",
              "4.0             33    1      1\n",
              "6.0              0   39      0\n",
              "8.0            875    1     10"
            ],
            "text/html": [
              "\n",
              "  <div id=\"df-051ca5a5-0f84-43d5-92bc-e23ebf2bab2d\">\n",
              "    <div class=\"colab-df-container\">\n",
              "      <div>\n",
              "<style scoped>\n",
              "    .dataframe tbody tr th:only-of-type {\n",
              "        vertical-align: middle;\n",
              "    }\n",
              "\n",
              "    .dataframe tbody tr th {\n",
              "        vertical-align: top;\n",
              "    }\n",
              "\n",
              "    .dataframe thead th {\n",
              "        text-align: right;\n",
              "    }\n",
              "</style>\n",
              "<table border=\"1\" class=\"dataframe\">\n",
              "  <thead>\n",
              "    <tr style=\"text-align: right;\">\n",
              "      <th>os</th>\n",
              "      <th>android</th>\n",
              "      <th>ios</th>\n",
              "      <th>other</th>\n",
              "    </tr>\n",
              "    <tr>\n",
              "      <th>num_cores</th>\n",
              "      <th></th>\n",
              "      <th></th>\n",
              "      <th></th>\n",
              "    </tr>\n",
              "  </thead>\n",
              "  <tbody>\n",
              "    <tr>\n",
              "      <th>4.0</th>\n",
              "      <td>33</td>\n",
              "      <td>1</td>\n",
              "      <td>1</td>\n",
              "    </tr>\n",
              "    <tr>\n",
              "      <th>6.0</th>\n",
              "      <td>0</td>\n",
              "      <td>39</td>\n",
              "      <td>0</td>\n",
              "    </tr>\n",
              "    <tr>\n",
              "      <th>8.0</th>\n",
              "      <td>875</td>\n",
              "      <td>1</td>\n",
              "      <td>10</td>\n",
              "    </tr>\n",
              "  </tbody>\n",
              "</table>\n",
              "</div>\n",
              "      <button class=\"colab-df-convert\" onclick=\"convertToInteractive('df-051ca5a5-0f84-43d5-92bc-e23ebf2bab2d')\"\n",
              "              title=\"Convert this dataframe to an interactive table.\"\n",
              "              style=\"display:none;\">\n",
              "        \n",
              "  <svg xmlns=\"http://www.w3.org/2000/svg\" height=\"24px\"viewBox=\"0 0 24 24\"\n",
              "       width=\"24px\">\n",
              "    <path d=\"M0 0h24v24H0V0z\" fill=\"none\"/>\n",
              "    <path d=\"M18.56 5.44l.94 2.06.94-2.06 2.06-.94-2.06-.94-.94-2.06-.94 2.06-2.06.94zm-11 1L8.5 8.5l.94-2.06 2.06-.94-2.06-.94L8.5 2.5l-.94 2.06-2.06.94zm10 10l.94 2.06.94-2.06 2.06-.94-2.06-.94-.94-2.06-.94 2.06-2.06.94z\"/><path d=\"M17.41 7.96l-1.37-1.37c-.4-.4-.92-.59-1.43-.59-.52 0-1.04.2-1.43.59L10.3 9.45l-7.72 7.72c-.78.78-.78 2.05 0 2.83L4 21.41c.39.39.9.59 1.41.59.51 0 1.02-.2 1.41-.59l7.78-7.78 2.81-2.81c.8-.78.8-2.07 0-2.86zM5.41 20L4 18.59l7.72-7.72 1.47 1.35L5.41 20z\"/>\n",
              "  </svg>\n",
              "      </button>\n",
              "      \n",
              "  <style>\n",
              "    .colab-df-container {\n",
              "      display:flex;\n",
              "      flex-wrap:wrap;\n",
              "      gap: 12px;\n",
              "    }\n",
              "\n",
              "    .colab-df-convert {\n",
              "      background-color: #E8F0FE;\n",
              "      border: none;\n",
              "      border-radius: 50%;\n",
              "      cursor: pointer;\n",
              "      display: none;\n",
              "      fill: #1967D2;\n",
              "      height: 32px;\n",
              "      padding: 0 0 0 0;\n",
              "      width: 32px;\n",
              "    }\n",
              "\n",
              "    .colab-df-convert:hover {\n",
              "      background-color: #E2EBFA;\n",
              "      box-shadow: 0px 1px 2px rgba(60, 64, 67, 0.3), 0px 1px 3px 1px rgba(60, 64, 67, 0.15);\n",
              "      fill: #174EA6;\n",
              "    }\n",
              "\n",
              "    [theme=dark] .colab-df-convert {\n",
              "      background-color: #3B4455;\n",
              "      fill: #D2E3FC;\n",
              "    }\n",
              "\n",
              "    [theme=dark] .colab-df-convert:hover {\n",
              "      background-color: #434B5C;\n",
              "      box-shadow: 0px 1px 3px 1px rgba(0, 0, 0, 0.15);\n",
              "      filter: drop-shadow(0px 1px 2px rgba(0, 0, 0, 0.3));\n",
              "      fill: #FFFFFF;\n",
              "    }\n",
              "  </style>\n",
              "\n",
              "      <script>\n",
              "        const buttonEl =\n",
              "          document.querySelector('#df-051ca5a5-0f84-43d5-92bc-e23ebf2bab2d button.colab-df-convert');\n",
              "        buttonEl.style.display =\n",
              "          google.colab.kernel.accessAllowed ? 'block' : 'none';\n",
              "\n",
              "        async function convertToInteractive(key) {\n",
              "          const element = document.querySelector('#df-051ca5a5-0f84-43d5-92bc-e23ebf2bab2d');\n",
              "          const dataTable =\n",
              "            await google.colab.kernel.invokeFunction('convertToInteractive',\n",
              "                                                     [key], {});\n",
              "          if (!dataTable) return;\n",
              "\n",
              "          const docLinkHtml = 'Like what you see? Visit the ' +\n",
              "            '<a target=\"_blank\" href=https://colab.research.google.com/notebooks/data_table.ipynb>data table notebook</a>'\n",
              "            + ' to learn more about interactive tables.';\n",
              "          element.innerHTML = '';\n",
              "          dataTable['output_type'] = 'display_data';\n",
              "          await google.colab.output.renderOutput(dataTable, element);\n",
              "          const docLink = document.createElement('div');\n",
              "          docLink.innerHTML = docLinkHtml;\n",
              "          element.appendChild(docLink);\n",
              "        }\n",
              "      </script>\n",
              "    </div>\n",
              "  </div>\n",
              "  "
            ]
          },
          "metadata": {},
          "execution_count": 97
        }
      ]
    },
    {
      "cell_type": "code",
      "source": [
        "sns.scatterplot(data=df,x='processor_speed',y='price')"
      ],
      "metadata": {
        "colab": {
          "base_uri": "https://localhost:8080/",
          "height": 297
        },
        "id": "EUlGj-foMbSM",
        "outputId": "ee071a4b-b02c-4ce4-8d12-5f3077aa6c75"
      },
      "execution_count": null,
      "outputs": [
        {
          "output_type": "execute_result",
          "data": {
            "text/plain": [
              "<matplotlib.axes._subplots.AxesSubplot at 0x7fb99721f550>"
            ]
          },
          "metadata": {},
          "execution_count": 98
        },
        {
          "output_type": "display_data",
          "data": {
            "text/plain": [
              "<Figure size 432x288 with 1 Axes>"
            ],
            "image/png": "[encoded data removed]"
          },
          "metadata": {
            "needs_background": "light"
          }
        }
      ]
    },
    {
      "cell_type": "code",
      "source": [
        "sns.scatterplot(data=df,x='screen_size',y='price')"
      ],
      "metadata": {
        "colab": {
          "base_uri": "https://localhost:8080/",
          "height": 297
        },
        "id": "qRCBbadBMt_n",
        "outputId": "1d604ef5-82d5-4699-c685-3ddbd4d27dd0"
      },
      "execution_count": null,
      "outputs": [
        {
          "output_type": "execute_result",
          "data": {
            "text/plain": [
              "<matplotlib.axes._subplots.AxesSubplot at 0x7fb9971ed0d0>"
            ]
          },
          "metadata": {},
          "execution_count": 99
        },
        {
          "output_type": "display_data",
          "data": {
            "text/plain": [
              "<Figure size 432x288 with 1 Axes>"
            ],
            "image/png": "[encoded data removed]"
          },
          "metadata": {
            "needs_background": "light"
          }
        }
      ]
    },
    {
      "cell_type": "code",
      "source": [
        "df.corr()['price']"
      ],
      "metadata": {
        "colab": {
          "base_uri": "https://localhost:8080/"
        },
        "id": "EgKOfr_jNTtz",
        "outputId": "5e2a201f-d05c-4856-8a53-55d9dbcacea2"
      },
      "execution_count": null,
      "outputs": [
        {
          "output_type": "execute_result",
          "data": {
            "text/plain": [
              "price                        1.000000\n",
              "rating                       0.283504\n",
              "has_5g                       0.305066\n",
              "has_nfc                      0.470951\n",
              "has_ir_blaster              -0.015807\n",
              "num_cores                   -0.048561\n",
              "processor_speed              0.474049\n",
              "battery_capacity            -0.159232\n",
              "fast_charging_available      0.116739\n",
              "fast_charging                0.277591\n",
              "ram_capacity                 0.386002\n",
              "internal_memory              0.557168\n",
              "screen_size                  0.113253\n",
              "refresh_rate                 0.244115\n",
              "num_rear_cameras             0.125330\n",
              "num_front_cameras            0.115228\n",
              "primary_camera_rear          0.092095\n",
              "primary_camera_front         0.162995\n",
              "extended_memory_available   -0.448628\n",
              "extended_upto                0.091945\n",
              "Name: price, dtype: float64"
            ]
          },
          "metadata": {},
          "execution_count": 103
        }
      ]
    },
    {
      "cell_type": "code",
      "source": [
        "df.isnull().sum()"
      ],
      "metadata": {
        "colab": {
          "base_uri": "https://localhost:8080/"
        },
        "id": "SB1KT1OfNk0f",
        "outputId": "db858ca0-615b-47cd-8673-cd532a128443"
      },
      "execution_count": null,
      "outputs": [
        {
          "output_type": "execute_result",
          "data": {
            "text/plain": [
              "brand_name                     0\n",
              "model                          0\n",
              "price                          0\n",
              "rating                       101\n",
              "has_5g                         0\n",
              "has_nfc                        0\n",
              "has_ir_blaster                 0\n",
              "processor_brand               20\n",
              "num_cores                      6\n",
              "processor_speed               42\n",
              "battery_capacity              11\n",
              "fast_charging_available        0\n",
              "fast_charging                211\n",
              "ram_capacity                   0\n",
              "internal_memory                0\n",
              "screen_size                    0\n",
              "refresh_rate                   0\n",
              "resolution                     0\n",
              "num_rear_cameras               0\n",
              "num_front_cameras              4\n",
              "os                            14\n",
              "primary_camera_rear            0\n",
              "primary_camera_front           5\n",
              "extended_memory_available      0\n",
              "extended_upto                480\n",
              "dtype: int64"
            ]
          },
          "metadata": {},
          "execution_count": 104
        }
      ]
    },
    {
      "cell_type": "code",
      "source": [
        "df.corr()['rating']"
      ],
      "metadata": {
        "colab": {
          "base_uri": "https://localhost:8080/"
        },
        "id": "dKyu8YMjPQ-A",
        "outputId": "f4f5bdbe-94f5-4f8e-d94b-552d85589f79"
      },
      "execution_count": null,
      "outputs": [
        {
          "output_type": "execute_result",
          "data": {
            "text/plain": [
              "price                        0.283504\n",
              "rating                       1.000000\n",
              "has_5g                       0.596087\n",
              "has_nfc                      0.474754\n",
              "has_ir_blaster               0.156421\n",
              "num_cores                    0.199741\n",
              "processor_speed              0.628446\n",
              "battery_capacity            -0.015581\n",
              "fast_charging_available      0.542814\n",
              "fast_charging                0.527613\n",
              "ram_capacity                 0.757613\n",
              "internal_memory              0.481070\n",
              "screen_size                  0.298272\n",
              "refresh_rate                 0.610795\n",
              "num_rear_cameras             0.515531\n",
              "num_front_cameras            0.131480\n",
              "primary_camera_rear          0.562046\n",
              "primary_camera_front         0.577861\n",
              "extended_memory_available   -0.415265\n",
              "extended_upto                0.346761\n",
              "Name: rating, dtype: float64"
            ]
          },
          "metadata": {},
          "execution_count": 105
        }
      ]
    },
    {
      "cell_type": "code",
      "source": [
        "# knn imputer\n",
        "df.shape"
      ],
      "metadata": {
        "colab": {
          "base_uri": "https://localhost:8080/"
        },
        "id": "mqtEsGNNPXiP",
        "outputId": "b6b11a9e-fc1c-49c3-a567-68efb1fd519b"
      },
      "execution_count": null,
      "outputs": [
        {
          "output_type": "execute_result",
          "data": {
            "text/plain": [
              "(980, 25)"
            ]
          },
          "metadata": {},
          "execution_count": 106
        }
      ]
    },
    {
      "cell_type": "code",
      "source": [
        "x_df = df.select_dtypes(include=['int64','float64']).drop(columns='price')"
      ],
      "metadata": {
        "id": "HfCu3bW8PnfX"
      },
      "execution_count": null,
      "outputs": []
    },
    {
      "cell_type": "code",
      "source": [
        "from sklearn.impute import KNNImputer"
      ],
      "metadata": {
        "id": "EjNlL4uRQETd"
      },
      "execution_count": null,
      "outputs": []
    },
    {
      "cell_type": "code",
      "source": [
        "imputer = KNNImputer(n_neighbors=5)"
      ],
      "metadata": {
        "id": "u8qPoTJ6QhQN"
      },
      "execution_count": null,
      "outputs": []
    },
    {
      "cell_type": "code",
      "source": [
        "x_df_values = imputer.fit_transform(x_df)"
      ],
      "metadata": {
        "id": "tipa5kJYQnLV"
      },
      "execution_count": null,
      "outputs": []
    },
    {
      "cell_type": "code",
      "source": [
        "x_df = pd.DataFrame(x_df_values,columns=x_df.columns)"
      ],
      "metadata": {
        "id": "uevNcmzdQsy6"
      },
      "execution_count": null,
      "outputs": []
    },
    {
      "cell_type": "code",
      "source": [
        "x_df['price'] = df['price']"
      ],
      "metadata": {
        "id": "QlnMsn8JQ2kT"
      },
      "execution_count": null,
      "outputs": []
    },
    {
      "cell_type": "code",
      "source": [
        "x_df.head()"
      ],
      "metadata": {
        "colab": {
          "base_uri": "https://localhost:8080/",
          "height": 270
        },
        "id": "xqhWmasIRG3m",
        "outputId": "79517f4a-cb2a-478e-e7da-e1b86d70f6e1"
      },
      "execution_count": null,
      "outputs": [
        {
          "output_type": "execute_result",
          "data": {
            "text/plain": [
              "   rating  num_cores  processor_speed  battery_capacity  \\\n",
              "0    89.0        8.0              3.2            5000.0   \n",
              "1    81.0        8.0              2.2            5000.0   \n",
              "2    75.0        8.0              2.4            5000.0   \n",
              "3    81.0        8.0              2.2            5000.0   \n",
              "4    82.0        8.0              2.6            5000.0   \n",
              "\n",
              "   fast_charging_available  fast_charging  ram_capacity  internal_memory  \\\n",
              "0                      1.0          100.0          12.0            256.0   \n",
              "1                      1.0           33.0           6.0            128.0   \n",
              "2                      1.0           15.0           4.0             64.0   \n",
              "3                      1.0           29.2           6.0            128.0   \n",
              "4                      1.0           67.0           6.0            128.0   \n",
              "\n",
              "   screen_size  refresh_rate  num_rear_cameras  num_front_cameras  \\\n",
              "0         6.70         120.0               3.0                1.0   \n",
              "1         6.59         120.0               3.0                1.0   \n",
              "2         6.60          90.0               3.0                1.0   \n",
              "3         6.55         120.0               3.0                1.0   \n",
              "4         6.70         120.0               3.0                1.0   \n",
              "\n",
              "   primary_camera_rear  primary_camera_front  extended_memory_available  \\\n",
              "0                 50.0                  16.0                        0.0   \n",
              "1                 64.0                  16.0                        1.0   \n",
              "2                 50.0                  13.0                        1.0   \n",
              "3                 50.0                  16.0                        1.0   \n",
              "4                108.0                  16.0                        0.0   \n",
              "\n",
              "   extended_upto  price  \n",
              "0          870.4  54999  \n",
              "1         1024.0  19989  \n",
              "2         1024.0  16499  \n",
              "3         1024.0  14999  \n",
              "4         1024.0  24999  "
            ],
            "text/html": [
              "\n",
              "  <div id=\"df-eef5fb95-e526-451d-92b4-853c80d3d921\">\n",
              "    <div class=\"colab-df-container\">\n",
              "      <div>\n",
              "<style scoped>\n",
              "    .dataframe tbody tr th:only-of-type {\n",
              "        vertical-align: middle;\n",
              "    }\n",
              "\n",
              "    .dataframe tbody tr th {\n",
              "        vertical-align: top;\n",
              "    }\n",
              "\n",
              "    .dataframe thead th {\n",
              "        text-align: right;\n",
              "    }\n",
              "</style>\n",
              "<table border=\"1\" class=\"dataframe\">\n",
              "  <thead>\n",
              "    <tr style=\"text-align: right;\">\n",
              "      <th></th>\n",
              "      <th>rating</th>\n",
              "      <th>num_cores</th>\n",
              "      <th>processor_speed</th>\n",
              "      <th>battery_capacity</th>\n",
              "      <th>fast_charging_available</th>\n",
              "      <th>fast_charging</th>\n",
              "      <th>ram_capacity</th>\n",
              "      <th>internal_memory</th>\n",
              "      <th>screen_size</th>\n",
              "      <th>refresh_rate</th>\n",
              "      <th>num_rear_cameras</th>\n",
              "      <th>num_front_cameras</th>\n",
              "      <th>primary_camera_rear</th>\n",
              "      <th>primary_camera_front</th>\n",
              "      <th>extended_memory_available</th>\n",
              "      <th>extended_upto</th>\n",
              "      <th>price</th>\n",
              "    </tr>\n",
              "  </thead>\n",
              "  <tbody>\n",
              "    <tr>\n",
              "      <th>0</th>\n",
              "      <td>89.0</td>\n",
              "      <td>8.0</td>\n",
              "      <td>3.2</td>\n",
              "      <td>5000.0</td>\n",
              "      <td>1.0</td>\n",
              "      <td>100.0</td>\n",
              "      <td>12.0</td>\n",
              "      <td>256.0</td>\n",
              "      <td>6.70</td>\n",
              "      <td>120.0</td>\n",
              "      <td>3.0</td>\n",
              "      <td>1.0</td>\n",
              "      <td>50.0</td>\n",
              "      <td>16.0</td>\n",
              "      <td>0.0</td>\n",
              "      <td>870.4</td>\n",
              "      <td>54999</td>\n",
              "    </tr>\n",
              "    <tr>\n",
              "      <th>1</th>\n",
              "      <td>81.0</td>\n",
              "      <td>8.0</td>\n",
              "      <td>2.2</td>\n",
              "      <td>5000.0</td>\n",
              "      <td>1.0</td>\n",
              "      <td>33.0</td>\n",
              "      <td>6.0</td>\n",
              "      <td>128.0</td>\n",
              "      <td>6.59</td>\n",
              "      <td>120.0</td>\n",
              "      <td>3.0</td>\n",
              "      <td>1.0</td>\n",
              "      <td>64.0</td>\n",
              "      <td>16.0</td>\n",
              "      <td>1.0</td>\n",
              "      <td>1024.0</td>\n",
              "      <td>19989</td>\n",
              "    </tr>\n",
              "    <tr>\n",
              "      <th>2</th>\n",
              "      <td>75.0</td>\n",
              "      <td>8.0</td>\n",
              "      <td>2.4</td>\n",
              "      <td>5000.0</td>\n",
              "      <td>1.0</td>\n",
              "      <td>15.0</td>\n",
              "      <td>4.0</td>\n",
              "      <td>64.0</td>\n",
              "      <td>6.60</td>\n",
              "      <td>90.0</td>\n",
              "      <td>3.0</td>\n",
              "      <td>1.0</td>\n",
              "      <td>50.0</td>\n",
              "      <td>13.0</td>\n",
              "      <td>1.0</td>\n",
              "      <td>1024.0</td>\n",
              "      <td>16499</td>\n",
              "    </tr>\n",
              "    <tr>\n",
              "      <th>3</th>\n",
              "      <td>81.0</td>\n",
              "      <td>8.0</td>\n",
              "      <td>2.2</td>\n",
              "      <td>5000.0</td>\n",
              "      <td>1.0</td>\n",
              "      <td>29.2</td>\n",
              "      <td>6.0</td>\n",
              "      <td>128.0</td>\n",
              "      <td>6.55</td>\n",
              "      <td>120.0</td>\n",
              "      <td>3.0</td>\n",
              "      <td>1.0</td>\n",
              "      <td>50.0</td>\n",
              "      <td>16.0</td>\n",
              "      <td>1.0</td>\n",
              "      <td>1024.0</td>\n",
              "      <td>14999</td>\n",
              "    </tr>\n",
              "    <tr>\n",
              "      <th>4</th>\n",
              "      <td>82.0</td>\n",
              "      <td>8.0</td>\n",
              "      <td>2.6</td>\n",
              "      <td>5000.0</td>\n",
              "      <td>1.0</td>\n",
              "      <td>67.0</td>\n",
              "      <td>6.0</td>\n",
              "      <td>128.0</td>\n",
              "      <td>6.70</td>\n",
              "      <td>120.0</td>\n",
              "      <td>3.0</td>\n",
              "      <td>1.0</td>\n",
              "      <td>108.0</td>\n",
              "      <td>16.0</td>\n",
              "      <td>0.0</td>\n",
              "      <td>1024.0</td>\n",
              "      <td>24999</td>\n",
              "    </tr>\n",
              "  </tbody>\n",
              "</table>\n",
              "</div>\n",
              "      <button class=\"colab-df-convert\" onclick=\"convertToInteractive('df-eef5fb95-e526-451d-92b4-853c80d3d921')\"\n",
              "              title=\"Convert this dataframe to an interactive table.\"\n",
              "              style=\"display:none;\">\n",
              "        \n",
              "  <svg xmlns=\"http://www.w3.org/2000/svg\" height=\"24px\"viewBox=\"0 0 24 24\"\n",
              "       width=\"24px\">\n",
              "    <path d=\"M0 0h24v24H0V0z\" fill=\"none\"/>\n",
              "    <path d=\"M18.56 5.44l.94 2.06.94-2.06 2.06-.94-2.06-.94-.94-2.06-.94 2.06-2.06.94zm-11 1L8.5 8.5l.94-2.06 2.06-.94-2.06-.94L8.5 2.5l-.94 2.06-2.06.94zm10 10l.94 2.06.94-2.06 2.06-.94-2.06-.94-.94-2.06-.94 2.06-2.06.94z\"/><path d=\"M17.41 7.96l-1.37-1.37c-.4-.4-.92-.59-1.43-.59-.52 0-1.04.2-1.43.59L10.3 9.45l-7.72 7.72c-.78.78-.78 2.05 0 2.83L4 21.41c.39.39.9.59 1.41.59.51 0 1.02-.2 1.41-.59l7.78-7.78 2.81-2.81c.8-.78.8-2.07 0-2.86zM5.41 20L4 18.59l7.72-7.72 1.47 1.35L5.41 20z\"/>\n",
              "  </svg>\n",
              "      </button>\n",
              "      \n",
              "  <style>\n",
              "    .colab-df-container {\n",
              "      display:flex;\n",
              "      flex-wrap:wrap;\n",
              "      gap: 12px;\n",
              "    }\n",
              "\n",
              "    .colab-df-convert {\n",
              "      background-color: #E8F0FE;\n",
              "      border: none;\n",
              "      border-radius: 50%;\n",
              "      cursor: pointer;\n",
              "      display: none;\n",
              "      fill: #1967D2;\n",
              "      height: 32px;\n",
              "      padding: 0 0 0 0;\n",
              "      width: 32px;\n",
              "    }\n",
              "\n",
              "    .colab-df-convert:hover {\n",
              "      background-color: #E2EBFA;\n",
              "      box-shadow: 0px 1px 2px rgba(60, 64, 67, 0.3), 0px 1px 3px 1px rgba(60, 64, 67, 0.15);\n",
              "      fill: #174EA6;\n",
              "    }\n",
              "\n",
              "    [theme=dark] .colab-df-convert {\n",
              "      background-color: #3B4455;\n",
              "      fill: #D2E3FC;\n",
              "    }\n",
              "\n",
              "    [theme=dark] .colab-df-convert:hover {\n",
              "      background-color: #434B5C;\n",
              "      box-shadow: 0px 1px 3px 1px rgba(0, 0, 0, 0.15);\n",
              "      filter: drop-shadow(0px 1px 2px rgba(0, 0, 0, 0.3));\n",
              "      fill: #FFFFFF;\n",
              "    }\n",
              "  </style>\n",
              "\n",
              "      <script>\n",
              "        const buttonEl =\n",
              "          document.querySelector('#df-eef5fb95-e526-451d-92b4-853c80d3d921 button.colab-df-convert');\n",
              "        buttonEl.style.display =\n",
              "          google.colab.kernel.accessAllowed ? 'block' : 'none';\n",
              "\n",
              "        async function convertToInteractive(key) {\n",
              "          const element = document.querySelector('#df-eef5fb95-e526-451d-92b4-853c80d3d921');\n",
              "          const dataTable =\n",
              "            await google.colab.kernel.invokeFunction('convertToInteractive',\n",
              "                                                     [key], {});\n",
              "          if (!dataTable) return;\n",
              "\n",
              "          const docLinkHtml = 'Like what you see? Visit the ' +\n",
              "            '<a target=\"_blank\" href=https://colab.research.google.com/notebooks/data_table.ipynb>data table notebook</a>'\n",
              "            + ' to learn more about interactive tables.';\n",
              "          element.innerHTML = '';\n",
              "          dataTable['output_type'] = 'display_data';\n",
              "          await google.colab.output.renderOutput(dataTable, element);\n",
              "          const docLink = document.createElement('div');\n",
              "          docLink.innerHTML = docLinkHtml;\n",
              "          element.appendChild(docLink);\n",
              "        }\n",
              "      </script>\n",
              "    </div>\n",
              "  </div>\n",
              "  "
            ]
          },
          "metadata": {},
          "execution_count": 120
        }
      ]
    },
    {
      "cell_type": "code",
      "source": [
        "a = x_df.corr()['price'].reset_index()"
      ],
      "metadata": {
        "id": "-umsVeJ8RIBG"
      },
      "execution_count": null,
      "outputs": []
    },
    {
      "cell_type": "code",
      "source": [
        "b = df.corr()['price'].reset_index()"
      ],
      "metadata": {
        "id": "DgJ5CmJNRLqh"
      },
      "execution_count": null,
      "outputs": []
    },
    {
      "cell_type": "code",
      "source": [
        "b.merge(a,on='index')"
      ],
      "metadata": {
        "colab": {
          "base_uri": "https://localhost:8080/",
          "height": 582
        },
        "id": "48umJvseRVnh",
        "outputId": "3d2ea62a-8047-461b-f745-17f9fbbaa3df"
      },
      "execution_count": null,
      "outputs": [
        {
          "output_type": "execute_result",
          "data": {
            "text/plain": [
              "                        index   price_x   price_y\n",
              "0                       price  1.000000  1.000000\n",
              "1                      rating  0.283504  0.341727\n",
              "2                   num_cores -0.048561 -0.055949\n",
              "3             processor_speed  0.474049  0.488426\n",
              "4            battery_capacity -0.159232 -0.166257\n",
              "5     fast_charging_available  0.116739  0.116739\n",
              "6               fast_charging  0.277591  0.220688\n",
              "7                ram_capacity  0.386002  0.386002\n",
              "8             internal_memory  0.557168  0.557168\n",
              "9                 screen_size  0.113253  0.113253\n",
              "10               refresh_rate  0.244115  0.244115\n",
              "11           num_rear_cameras  0.125330  0.125330\n",
              "12          num_front_cameras  0.115228  0.115787\n",
              "13        primary_camera_rear  0.092095  0.092095\n",
              "14       primary_camera_front  0.162995  0.160281\n",
              "15  extended_memory_available -0.448628 -0.448628\n",
              "16              extended_upto  0.091945 -0.004073"
            ],
            "text/html": [
              "\n",
              "  <div id=\"df-b95c3bff-8c03-4ba8-bda2-8c267e4630c4\">\n",
              "    <div class=\"colab-df-container\">\n",
              "      <div>\n",
              "<style scoped>\n",
              "    .dataframe tbody tr th:only-of-type {\n",
              "        vertical-align: middle;\n",
              "    }\n",
              "\n",
              "    .dataframe tbody tr th {\n",
              "        vertical-align: top;\n",
              "    }\n",
              "\n",
              "    .dataframe thead th {\n",
              "        text-align: right;\n",
              "    }\n",
              "</style>\n",
              "<table border=\"1\" class=\"dataframe\">\n",
              "  <thead>\n",
              "    <tr style=\"text-align: right;\">\n",
              "      <th></th>\n",
              "      <th>index</th>\n",
              "      <th>price_x</th>\n",
              "      <th>price_y</th>\n",
              "    </tr>\n",
              "  </thead>\n",
              "  <tbody>\n",
              "    <tr>\n",
              "      <th>0</th>\n",
              "      <td>price</td>\n",
              "      <td>1.000000</td>\n",
              "      <td>1.000000</td>\n",
              "    </tr>\n",
              "    <tr>\n",
              "      <th>1</th>\n",
              "      <td>rating</td>\n",
              "      <td>0.283504</td>\n",
              "      <td>0.341727</td>\n",
              "    </tr>\n",
              "    <tr>\n",
              "      <th>2</th>\n",
              "      <td>num_cores</td>\n",
              "      <td>-0.048561</td>\n",
              "      <td>-0.055949</td>\n",
              "    </tr>\n",
              "    <tr>\n",
              "      <th>3</th>\n",
              "      <td>processor_speed</td>\n",
              "      <td>0.474049</td>\n",
              "      <td>0.488426</td>\n",
              "    </tr>\n",
              "    <tr>\n",
              "      <th>4</th>\n",
              "      <td>battery_capacity</td>\n",
              "      <td>-0.159232</td>\n",
              "      <td>-0.166257</td>\n",
              "    </tr>\n",
              "    <tr>\n",
              "      <th>5</th>\n",
              "      <td>fast_charging_available</td>\n",
              "      <td>0.116739</td>\n",
              "      <td>0.116739</td>\n",
              "    </tr>\n",
              "    <tr>\n",
              "      <th>6</th>\n",
              "      <td>fast_charging</td>\n",
              "      <td>0.277591</td>\n",
              "      <td>0.220688</td>\n",
              "    </tr>\n",
              "    <tr>\n",
              "      <th>7</th>\n",
              "      <td>ram_capacity</td>\n",
              "      <td>0.386002</td>\n",
              "      <td>0.386002</td>\n",
              "    </tr>\n",
              "    <tr>\n",
              "      <th>8</th>\n",
              "      <td>internal_memory</td>\n",
              "      <td>0.557168</td>\n",
              "      <td>0.557168</td>\n",
              "    </tr>\n",
              "    <tr>\n",
              "      <th>9</th>\n",
              "      <td>screen_size</td>\n",
              "      <td>0.113253</td>\n",
              "      <td>0.113253</td>\n",
              "    </tr>\n",
              "    <tr>\n",
              "      <th>10</th>\n",
              "      <td>refresh_rate</td>\n",
              "      <td>0.244115</td>\n",
              "      <td>0.244115</td>\n",
              "    </tr>\n",
              "    <tr>\n",
              "      <th>11</th>\n",
              "      <td>num_rear_cameras</td>\n",
              "      <td>0.125330</td>\n",
              "      <td>0.125330</td>\n",
              "    </tr>\n",
              "    <tr>\n",
              "      <th>12</th>\n",
              "      <td>num_front_cameras</td>\n",
              "      <td>0.115228</td>\n",
              "      <td>0.115787</td>\n",
              "    </tr>\n",
              "    <tr>\n",
              "      <th>13</th>\n",
              "      <td>primary_camera_rear</td>\n",
              "      <td>0.092095</td>\n",
              "      <td>0.092095</td>\n",
              "    </tr>\n",
              "    <tr>\n",
              "      <th>14</th>\n",
              "      <td>primary_camera_front</td>\n",
              "      <td>0.162995</td>\n",
              "      <td>0.160281</td>\n",
              "    </tr>\n",
              "    <tr>\n",
              "      <th>15</th>\n",
              "      <td>extended_memory_available</td>\n",
              "      <td>-0.448628</td>\n",
              "      <td>-0.448628</td>\n",
              "    </tr>\n",
              "    <tr>\n",
              "      <th>16</th>\n",
              "      <td>extended_upto</td>\n",
              "      <td>0.091945</td>\n",
              "      <td>-0.004073</td>\n",
              "    </tr>\n",
              "  </tbody>\n",
              "</table>\n",
              "</div>\n",
              "      <button class=\"colab-df-convert\" onclick=\"convertToInteractive('df-b95c3bff-8c03-4ba8-bda2-8c267e4630c4')\"\n",
              "              title=\"Convert this dataframe to an interactive table.\"\n",
              "              style=\"display:none;\">\n",
              "        \n",
              "  <svg xmlns=\"http://www.w3.org/2000/svg\" height=\"24px\"viewBox=\"0 0 24 24\"\n",
              "       width=\"24px\">\n",
              "    <path d=\"M0 0h24v24H0V0z\" fill=\"none\"/>\n",
              "    <path d=\"M18.56 5.44l.94 2.06.94-2.06 2.06-.94-2.06-.94-.94-2.06-.94 2.06-2.06.94zm-11 1L8.5 8.5l.94-2.06 2.06-.94-2.06-.94L8.5 2.5l-.94 2.06-2.06.94zm10 10l.94 2.06.94-2.06 2.06-.94-2.06-.94-.94-2.06-.94 2.06-2.06.94z\"/><path d=\"M17.41 7.96l-1.37-1.37c-.4-.4-.92-.59-1.43-.59-.52 0-1.04.2-1.43.59L10.3 9.45l-7.72 7.72c-.78.78-.78 2.05 0 2.83L4 21.41c.39.39.9.59 1.41.59.51 0 1.02-.2 1.41-.59l7.78-7.78 2.81-2.81c.8-.78.8-2.07 0-2.86zM5.41 20L4 18.59l7.72-7.72 1.47 1.35L5.41 20z\"/>\n",
              "  </svg>\n",
              "      </button>\n",
              "      \n",
              "  <style>\n",
              "    .colab-df-container {\n",
              "      display:flex;\n",
              "      flex-wrap:wrap;\n",
              "      gap: 12px;\n",
              "    }\n",
              "\n",
              "    .colab-df-convert {\n",
              "      background-color: #E8F0FE;\n",
              "      border: none;\n",
              "      border-radius: 50%;\n",
              "      cursor: pointer;\n",
              "      display: none;\n",
              "      fill: #1967D2;\n",
              "      height: 32px;\n",
              "      padding: 0 0 0 0;\n",
              "      width: 32px;\n",
              "    }\n",
              "\n",
              "    .colab-df-convert:hover {\n",
              "      background-color: #E2EBFA;\n",
              "      box-shadow: 0px 1px 2px rgba(60, 64, 67, 0.3), 0px 1px 3px 1px rgba(60, 64, 67, 0.15);\n",
              "      fill: #174EA6;\n",
              "    }\n",
              "\n",
              "    [theme=dark] .colab-df-convert {\n",
              "      background-color: #3B4455;\n",
              "      fill: #D2E3FC;\n",
              "    }\n",
              "\n",
              "    [theme=dark] .colab-df-convert:hover {\n",
              "      background-color: #434B5C;\n",
              "      box-shadow: 0px 1px 3px 1px rgba(0, 0, 0, 0.15);\n",
              "      filter: drop-shadow(0px 1px 2px rgba(0, 0, 0, 0.3));\n",
              "      fill: #FFFFFF;\n",
              "    }\n",
              "  </style>\n",
              "\n",
              "      <script>\n",
              "        const buttonEl =\n",
              "          document.querySelector('#df-b95c3bff-8c03-4ba8-bda2-8c267e4630c4 button.colab-df-convert');\n",
              "        buttonEl.style.display =\n",
              "          google.colab.kernel.accessAllowed ? 'block' : 'none';\n",
              "\n",
              "        async function convertToInteractive(key) {\n",
              "          const element = document.querySelector('#df-b95c3bff-8c03-4ba8-bda2-8c267e4630c4');\n",
              "          const dataTable =\n",
              "            await google.colab.kernel.invokeFunction('convertToInteractive',\n",
              "                                                     [key], {});\n",
              "          if (!dataTable) return;\n",
              "\n",
              "          const docLinkHtml = 'Like what you see? Visit the ' +\n",
              "            '<a target=\"_blank\" href=https://colab.research.google.com/notebooks/data_table.ipynb>data table notebook</a>'\n",
              "            + ' to learn more about interactive tables.';\n",
              "          element.innerHTML = '';\n",
              "          dataTable['output_type'] = 'display_data';\n",
              "          await google.colab.output.renderOutput(dataTable, element);\n",
              "          const docLink = document.createElement('div');\n",
              "          docLink.innerHTML = docLinkHtml;\n",
              "          element.appendChild(docLink);\n",
              "        }\n",
              "      </script>\n",
              "    </div>\n",
              "  </div>\n",
              "  "
            ]
          },
          "metadata": {},
          "execution_count": 125
        }
      ]
    },
    {
      "cell_type": "code",
      "source": [
        "pd.get_dummies(df,columns=['brand_name','processor_brand','os'],drop_first=True).corr()['price']"
      ],
      "metadata": {
        "colab": {
          "base_uri": "https://localhost:8080/"
        },
        "id": "jhWqcDHbRYXI",
        "outputId": "8eb43aec-1d2e-45e5-e1fd-08d59880b5f3"
      },
      "execution_count": null,
      "outputs": [
        {
          "output_type": "execute_result",
          "data": {
            "text/plain": [
              "price                         1.000000\n",
              "rating                        0.283504\n",
              "has_5g                        0.305066\n",
              "has_nfc                       0.470951\n",
              "has_ir_blaster               -0.015807\n",
              "num_cores                    -0.048561\n",
              "processor_speed               0.474049\n",
              "battery_capacity             -0.159232\n",
              "fast_charging_available       0.116739\n",
              "fast_charging                 0.277591\n",
              "ram_capacity                  0.386002\n",
              "internal_memory               0.557168\n",
              "screen_size                   0.113253\n",
              "refresh_rate                  0.244115\n",
              "num_rear_cameras              0.125330\n",
              "num_front_cameras             0.115228\n",
              "primary_camera_rear           0.092095\n",
              "primary_camera_front          0.162995\n",
              "extended_memory_available    -0.448628\n",
              "extended_upto                 0.091945\n",
              "brand_name_asus               0.090566\n",
              "brand_name_blackview         -0.019033\n",
              "brand_name_blu               -0.014180\n",
              "brand_name_cat               -0.014173\n",
              "brand_name_cola              -0.014173\n",
              "brand_name_doogee            -0.002314\n",
              "brand_name_duoqin            -0.018224\n",
              "brand_name_gionee            -0.035937\n",
              "brand_name_google             0.035990\n",
              "brand_name_honor             -0.006511\n",
              "brand_name_huawei             0.155389\n",
              "brand_name_ikall             -0.034904\n",
              "brand_name_infinix           -0.078915\n",
              "brand_name_iqoo              -0.010316\n",
              "brand_name_itel              -0.068636\n",
              "brand_name_jio               -0.041091\n",
              "brand_name_lava              -0.034469\n",
              "brand_name_leeco             -0.017408\n",
              "brand_name_leitz              0.074797\n",
              "brand_name_lenovo             0.024005\n",
              "brand_name_letv              -0.036961\n",
              "brand_name_lg                 0.043208\n",
              "brand_name_lyf               -0.032711\n",
              "brand_name_micromax          -0.035890\n",
              "brand_name_motorola          -0.050448\n",
              "brand_name_nokia             -0.023152\n",
              "brand_name_nothing           -0.002402\n",
              "brand_name_nubia              0.034380\n",
              "brand_name_oneplus            0.017877\n",
              "brand_name_oppo              -0.022818\n",
              "brand_name_oukitel           -0.008734\n",
              "brand_name_poco              -0.074258\n",
              "brand_name_realme            -0.126322\n",
              "brand_name_redmi             -0.023638\n",
              "brand_name_royole             0.111565\n",
              "brand_name_samsung            0.043162\n",
              "brand_name_sharp              0.022220\n",
              "brand_name_sony               0.068347\n",
              "brand_name_tcl               -0.019033\n",
              "brand_name_tecno             -0.084924\n",
              "brand_name_tesla              0.030316\n",
              "brand_name_vertu              0.499466\n",
              "brand_name_vivo              -0.051903\n",
              "brand_name_xiaomi            -0.045925\n",
              "brand_name_zte                0.009699\n",
              "processor_brand_dimensity    -0.075534\n",
              "processor_brand_exynos        0.031226\n",
              "processor_brand_fusion        0.016557\n",
              "processor_brand_google        0.056005\n",
              "processor_brand_helio        -0.257915\n",
              "processor_brand_kirin         0.135626\n",
              "processor_brand_mediatek     -0.022262\n",
              "processor_brand_sc9863a      -0.029067\n",
              "processor_brand_snapdragon    0.156442\n",
              "processor_brand_spreadtrum   -0.043668\n",
              "processor_brand_tiger        -0.093937\n",
              "processor_brand_unisoc       -0.101970\n",
              "os_ios                        0.356357\n",
              "os_other                      0.089325\n",
              "Name: price, dtype: float64"
            ]
          },
          "metadata": {},
          "execution_count": 132
        }
      ]
    },
    {
      "cell_type": "code",
      "source": [],
      "metadata": {
        "id": "0tqI4FuTR1no"
      },
      "execution_count": null,
      "outputs": []
    }
  ]
}